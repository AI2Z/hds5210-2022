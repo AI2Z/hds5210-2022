{
 "cells": [
  {
   "cell_type": "markdown",
   "metadata": {
    "nbgrader": {
     "grade": false,
     "grade_id": "intro",
     "locked": true,
     "schema_version": 1,
     "solution": false
    }
   },
   "source": [
    "# Working with a database\n",
    "\n",
    "This week's assignment has a few basic steps.  First, we're going to pull some data down off the internet and store it into our MySQL database.  Make sure that you use your username as part of the table name as show in the examples so that you don't create a problem for other students.\n",
    "\n",
    "Then, we'll merge that with some data already in the database and calculate a few results.  When it comes to calculating the results, you can do so either with SQL or with Pandas operations.\n"
   ]
  },
  {
   "cell_type": "markdown",
   "metadata": {
    "nbgrader": {
     "grade": false,
     "grade_id": "q01-intro",
     "locked": true,
     "schema_version": 1,
     "solution": false
    }
   },
   "source": [
    "## PART 1: Setup your database connection and table name\n",
    "\n",
    "In the code below, change the value of the variable `MYTABLE` to use your own username rather that `'pboal'`\n",
    "\n",
    "You can then use `MYTABLE` in the rest of your code to reference that table name."
   ]
  },
  {
   "cell_type": "code",
   "execution_count": 1,
   "metadata": {
    "nbgrader": {
     "grade": false,
     "grade_id": "q01-solution",
     "locked": false,
     "schema_version": 1,
     "solution": true
    }
   },
   "outputs": [
    {
     "data": {
      "text/plain": [
       "'ai2z'"
      ]
     },
     "execution_count": 1,
     "metadata": {},
     "output_type": "execute_result"
    }
   ],
   "source": [
    "import getpass\n",
    "myname = getpass.getuser().split('-')[1]\n",
    "myname\n",
    "#MYTABLE=myname + '_data'"
   ]
  },
  {
   "cell_type": "code",
   "execution_count": 2,
   "metadata": {},
   "outputs": [
    {
     "data": {
      "text/plain": [
       "'pbstudent_data'"
      ]
     },
     "execution_count": 2,
     "metadata": {},
     "output_type": "execute_result"
    }
   ],
   "source": [
    "#alternate name info\n",
    "myname2 = 'pbstudent'\n",
    "MYTABLE= myname2 + '_data'\n",
    "MYTABLE"
   ]
  },
  {
   "cell_type": "code",
   "execution_count": 3,
   "metadata": {},
   "outputs": [],
   "source": [
    "#Connection\n",
    "import os\n",
    "import pymysql #for accessing the mySQL database\n",
    "from sqlalchemy import create_engine\n",
    "import pandas as pd\n",
    "\n",
    "host = 'slucor2022-instance-1.cgdcoitnku0k.us-east-1.rds.amazonaws.com'\n",
    "port = '3306'\n",
    "user = 'slucor2022'\n",
    "password = 'SLUcor2022'\n",
    "database = 'hds5210'\n",
    "\n",
    "conn = create_engine('mysql+pymysql://' + \n",
    "                     user + ':' + \n",
    "                     password + '@' + \n",
    "                     host + '/' + \n",
    "                     database, echo=False)\n",
    "\n",
    "#note to self: no need to change the user info above"
   ]
  },
  {
   "cell_type": "code",
   "execution_count": 4,
   "metadata": {
    "nbgrader": {
     "grade": true,
     "grade_id": "q01-tests",
     "locked": true,
     "points": 5,
     "schema_version": 1,
     "solution": false
    }
   },
   "outputs": [],
   "source": [
    "assert(MYTABLE != 'pboal')\n",
    "assert(conn.connect())"
   ]
  },
  {
   "cell_type": "markdown",
   "metadata": {
    "nbgrader": {
     "grade": false,
     "grade_id": "q02-intro",
     "locked": true,
     "schema_version": 1,
     "solution": false
    }
   },
   "source": [
    "## PART 2: Bring in outside data\n",
    "\n",
    "Grab the data from this URL and put it into a database table named with your `username_data`.\n",
    "\n",
    "https://opendata.arcgis.com/api/v3/datasets/ed0bc689bde246b18835c7529ba4efb4_0/downloads/data?format=csv&spatialRefId=4326\n",
    "\n",
    "By the end of your cell, the table should be created.  The tests are going to verify that the table exists and looks right."
   ]
  },
  {
   "cell_type": "code",
   "execution_count": 5,
   "metadata": {
    "nbgrader": {
     "grade": false,
     "grade_id": "q02-solution",
     "locked": false,
     "schema_version": 1,
     "solution": true
    }
   },
   "outputs": [
    {
     "data": {
      "text/html": [
       "<div>\n",
       "<style scoped>\n",
       "    .dataframe tbody tr th:only-of-type {\n",
       "        vertical-align: middle;\n",
       "    }\n",
       "\n",
       "    .dataframe tbody tr th {\n",
       "        vertical-align: top;\n",
       "    }\n",
       "\n",
       "    .dataframe thead th {\n",
       "        text-align: right;\n",
       "    }\n",
       "</style>\n",
       "<table border=\"1\" class=\"dataframe\">\n",
       "  <thead>\n",
       "    <tr style=\"text-align: right;\">\n",
       "      <th></th>\n",
       "      <th>X</th>\n",
       "      <th>Y</th>\n",
       "      <th>OBJECTID</th>\n",
       "      <th>Provider_Name</th>\n",
       "      <th>NPI</th>\n",
       "      <th>CCN</th>\n",
       "      <th>Business_Street_Address</th>\n",
       "      <th>Business_City</th>\n",
       "      <th>Business_County</th>\n",
       "      <th>Business_ZIP_Code</th>\n",
       "      <th>...</th>\n",
       "      <th>Payment_Year_Number</th>\n",
       "      <th>Program_Type</th>\n",
       "      <th>Medicaid_EP_Hospital_Type</th>\n",
       "      <th>total_payments</th>\n",
       "      <th>Last_Payment_Criteria</th>\n",
       "      <th>Recent_Disbursement_Amount</th>\n",
       "      <th>Latitude</th>\n",
       "      <th>Longitude</th>\n",
       "      <th>Last_Program_Year</th>\n",
       "      <th>Last_Payment_Year</th>\n",
       "    </tr>\n",
       "  </thead>\n",
       "  <tbody>\n",
       "    <tr>\n",
       "      <th>0</th>\n",
       "      <td>-124.142009</td>\n",
       "      <td>40.783559</td>\n",
       "      <td>1</td>\n",
       "      <td>ST JOSEPH HEALTH NORTHERN CALIFORNIA LLC</td>\n",
       "      <td>1609858950</td>\n",
       "      <td>50006</td>\n",
       "      <td>2700 Dolbeer St</td>\n",
       "      <td>Eureka</td>\n",
       "      <td>Humboldt</td>\n",
       "      <td>95501</td>\n",
       "      <td>...</td>\n",
       "      <td>4</td>\n",
       "      <td>Medicare/Medicaid</td>\n",
       "      <td>Acute Care Hospitals</td>\n",
       "      <td>1530950.70</td>\n",
       "      <td>MU</td>\n",
       "      <td>153095.07</td>\n",
       "      <td>40.783559</td>\n",
       "      <td>-124.142009</td>\n",
       "      <td>2015</td>\n",
       "      <td>2016</td>\n",
       "    </tr>\n",
       "    <tr>\n",
       "      <th>1</th>\n",
       "      <td>-122.086674</td>\n",
       "      <td>37.632915</td>\n",
       "      <td>2</td>\n",
       "      <td>HAYWARD SISTERS HOSPITAL</td>\n",
       "      <td>1942298153</td>\n",
       "      <td>50002</td>\n",
       "      <td>27200 Calaroga Ave</td>\n",
       "      <td>Hayward</td>\n",
       "      <td>Alameda</td>\n",
       "      <td>94545</td>\n",
       "      <td>...</td>\n",
       "      <td>4</td>\n",
       "      <td>Medicare/Medicaid</td>\n",
       "      <td>Acute Care Hospitals</td>\n",
       "      <td>3245920.28</td>\n",
       "      <td>MU</td>\n",
       "      <td>324592.03</td>\n",
       "      <td>37.632915</td>\n",
       "      <td>-122.086674</td>\n",
       "      <td>2015</td>\n",
       "      <td>2016</td>\n",
       "    </tr>\n",
       "    <tr>\n",
       "      <th>2</th>\n",
       "      <td>-122.295861</td>\n",
       "      <td>38.325402</td>\n",
       "      <td>3</td>\n",
       "      <td>ST JOSEPH HEALTH NORTHERN CALIFORNIA LLC</td>\n",
       "      <td>1235218785</td>\n",
       "      <td>50009</td>\n",
       "      <td>1000 Trancas St</td>\n",
       "      <td>Napa</td>\n",
       "      <td>Napa</td>\n",
       "      <td>94558</td>\n",
       "      <td>...</td>\n",
       "      <td>4</td>\n",
       "      <td>Medicare/Medicaid</td>\n",
       "      <td>Acute Care Hospitals</td>\n",
       "      <td>1262015.89</td>\n",
       "      <td>MU</td>\n",
       "      <td>126201.59</td>\n",
       "      <td>38.325402</td>\n",
       "      <td>-122.295861</td>\n",
       "      <td>2015</td>\n",
       "      <td>2016</td>\n",
       "    </tr>\n",
       "    <tr>\n",
       "      <th>3</th>\n",
       "      <td>-120.766467</td>\n",
       "      <td>38.350920</td>\n",
       "      <td>4</td>\n",
       "      <td>SUTTER VALLEY HOSPITALS</td>\n",
       "      <td>1447494323</td>\n",
       "      <td>50014</td>\n",
       "      <td>200 Mission Blvd</td>\n",
       "      <td>Jackson</td>\n",
       "      <td>Amador</td>\n",
       "      <td>95642</td>\n",
       "      <td>...</td>\n",
       "      <td>4</td>\n",
       "      <td>Medicare/Medicaid</td>\n",
       "      <td>Acute Care Hospitals</td>\n",
       "      <td>865130.13</td>\n",
       "      <td>MU</td>\n",
       "      <td>86513.01</td>\n",
       "      <td>38.350920</td>\n",
       "      <td>-120.766467</td>\n",
       "      <td>2017</td>\n",
       "      <td>2019</td>\n",
       "    </tr>\n",
       "    <tr>\n",
       "      <th>4</th>\n",
       "      <td>-122.435820</td>\n",
       "      <td>37.769049</td>\n",
       "      <td>5</td>\n",
       "      <td>Sutter Bay Hospitals</td>\n",
       "      <td>1659439834</td>\n",
       "      <td>50008</td>\n",
       "      <td>CASTRO AND DUBOCE</td>\n",
       "      <td>San Francisco</td>\n",
       "      <td>San Francisco</td>\n",
       "      <td>94114</td>\n",
       "      <td>...</td>\n",
       "      <td>4</td>\n",
       "      <td>Medicare/Medicaid</td>\n",
       "      <td>Acute Care Hospitals</td>\n",
       "      <td>984465.12</td>\n",
       "      <td>MU</td>\n",
       "      <td>98446.51</td>\n",
       "      <td>37.769049</td>\n",
       "      <td>-122.435820</td>\n",
       "      <td>2016</td>\n",
       "      <td>2019</td>\n",
       "    </tr>\n",
       "  </tbody>\n",
       "</table>\n",
       "<p>5 rows × 21 columns</p>\n",
       "</div>"
      ],
      "text/plain": [
       "            X          Y  OBJECTID                             Provider_Name  \\\n",
       "0 -124.142009  40.783559         1  ST JOSEPH HEALTH NORTHERN CALIFORNIA LLC   \n",
       "1 -122.086674  37.632915         2                  HAYWARD SISTERS HOSPITAL   \n",
       "2 -122.295861  38.325402         3  ST JOSEPH HEALTH NORTHERN CALIFORNIA LLC   \n",
       "3 -120.766467  38.350920         4                   SUTTER VALLEY HOSPITALS   \n",
       "4 -122.435820  37.769049         5                      Sutter Bay Hospitals   \n",
       "\n",
       "          NPI    CCN Business_Street_Address  Business_City Business_County  \\\n",
       "0  1609858950  50006         2700 Dolbeer St         Eureka        Humboldt   \n",
       "1  1942298153  50002      27200 Calaroga Ave        Hayward         Alameda   \n",
       "2  1235218785  50009         1000 Trancas St           Napa            Napa   \n",
       "3  1447494323  50014        200 Mission Blvd        Jackson          Amador   \n",
       "4  1659439834  50008       CASTRO AND DUBOCE  San Francisco   San Francisco   \n",
       "\n",
       "   Business_ZIP_Code  ... Payment_Year_Number       Program_Type  \\\n",
       "0              95501  ...                   4  Medicare/Medicaid   \n",
       "1              94545  ...                   4  Medicare/Medicaid   \n",
       "2              94558  ...                   4  Medicare/Medicaid   \n",
       "3              95642  ...                   4  Medicare/Medicaid   \n",
       "4              94114  ...                   4  Medicare/Medicaid   \n",
       "\n",
       "  Medicaid_EP_Hospital_Type total_payments  Last_Payment_Criteria  \\\n",
       "0      Acute Care Hospitals     1530950.70                     MU   \n",
       "1      Acute Care Hospitals     3245920.28                     MU   \n",
       "2      Acute Care Hospitals     1262015.89                     MU   \n",
       "3      Acute Care Hospitals      865130.13                     MU   \n",
       "4      Acute Care Hospitals      984465.12                     MU   \n",
       "\n",
       "  Recent_Disbursement_Amount   Latitude   Longitude  Last_Program_Year  \\\n",
       "0                  153095.07  40.783559 -124.142009               2015   \n",
       "1                  324592.03  37.632915 -122.086674               2015   \n",
       "2                  126201.59  38.325402 -122.295861               2015   \n",
       "3                   86513.01  38.350920 -120.766467               2017   \n",
       "4                   98446.51  37.769049 -122.435820               2016   \n",
       "\n",
       "   Last_Payment_Year  \n",
       "0               2016  \n",
       "1               2016  \n",
       "2               2016  \n",
       "3               2019  \n",
       "4               2019  \n",
       "\n",
       "[5 rows x 21 columns]"
      ]
     },
     "execution_count": 5,
     "metadata": {},
     "output_type": "execute_result"
    }
   ],
   "source": [
    "#read in data (csv format)\n",
    "esri_url = 'https://opendata.arcgis.com/api/v3/datasets/ed0bc689bde246b18835c7529ba4efb4_0/downloads/data?format=csv&spatialRefId=4326'\n",
    "df = pd.read_csv(esri_url)\n",
    "df.head()"
   ]
  },
  {
   "cell_type": "code",
   "execution_count": 6,
   "metadata": {},
   "outputs": [],
   "source": [
    "#write to database table using sql\n",
    "df.to_sql(name=MYTABLE, con=conn, index=True, if_exists='replace')\n",
    "\n",
    "#Parameter Descriptions\n",
    "#name => Name of SQL table\n",
    "#con => database connection (e.g. sqlalchemy.engine)\n",
    "#if_exists => what to do if the table already exists (options include:{‘fail’, ‘replace’, ‘append’}, default ‘fail’)\n",
    "#---> fail: Raise a ValueError.; replace: Drop the table before inserting new values.; append: Insert new values to the existing table.\n",
    "#indexbool => Write DataFrame index as a column. Uses index_label as the column name in the table (default is True)\n",
    "\n",
    "#check table names\n",
    "#pd.read_sql_query(\"SHOW TABLES\", conn)\n",
    "df_dbshow = pd.read_sql_query(\"SHOW TABLES\", conn)\n",
    "# df_dbshow\n",
    "\n",
    "#yes! the data exists (11 \tpbstudent_data)"
   ]
  },
  {
   "cell_type": "code",
   "execution_count": 7,
   "metadata": {},
   "outputs": [],
   "source": [
    "#try to read back the data\n",
    "df_MYTABLE = pd.read_sql_query(\"SELECT * FROM \" + MYTABLE, conn)\n",
    "#df_MYTABLE.head()\n",
    "#it works!!! Super!"
   ]
  },
  {
   "cell_type": "code",
   "execution_count": 8,
   "metadata": {},
   "outputs": [
    {
     "name": "stdout",
     "output_type": "stream",
     "text": [
      "The Shape of the dowloaded ESRI file is: (323, 22)\n",
      "columns = Index(['index', 'X', 'Y', 'OBJECTID', 'Provider_Name', 'NPI', 'CCN',\n",
      "       'Business_Street_Address', 'Business_City', 'Business_County',\n",
      "       'Business_ZIP_Code', 'Business_State_Territory', 'Payment_Year_Number',\n",
      "       'Program_Type', 'Medicaid_EP_Hospital_Type', 'total_payments',\n",
      "       'Last_Payment_Criteria', 'Recent_Disbursement_Amount', 'Latitude',\n",
      "       'Longitude', 'Last_Program_Year', 'Last_Payment_Year'],\n",
      "      dtype='object')\n"
     ]
    },
    {
     "data": {
      "text/plain": [
       "False"
      ]
     },
     "execution_count": 8,
     "metadata": {},
     "output_type": "execute_result"
    }
   ],
   "source": [
    "#some quick checks...\n",
    "df_esri = pd.read_sql_query(\"SELECT * FROM \" + MYTABLE, conn)\n",
    "print('The Shape of the dowloaded ESRI file is:', df_esri.shape)\n",
    "print('columns =', df_esri.columns)\n",
    "list(df_esri.columns) == ['X', 'Y', 'OBJECTID', 'Provider_Name', 'NPI', 'CCN',\n",
    "       'Business_Street_Address', 'Business_City', 'Business_County',\n",
    "       'Business_ZIP_Code', 'Business_State_Territory', 'Payment_Year_Number',\n",
    "       'Program_Type', 'Medicaid_EP_Hospital_Type', 'total_payments',\n",
    "       'Last_Payment_Criteria', 'Recent_Disbursement_Amount', 'Latitude',\n",
    "       'Longitude', 'Last_Program_Year', 'Last_Payment_Year']\n",
    "\n",
    "#got it now!, I used index=False in the write.sql syntax above... need to fix this to the default=True for the assertion below to work"
   ]
  },
  {
   "cell_type": "code",
   "execution_count": 9,
   "metadata": {
    "nbgrader": {
     "grade": true,
     "grade_id": "q02-tests",
     "locked": true,
     "points": 5,
     "schema_version": 1,
     "solution": false
    }
   },
   "outputs": [],
   "source": [
    "dxyz = pd.read_sql_query('SELECT * FROM ' + MYTABLE, conn)\n",
    "# assert(dxyz.shape == (323,22))\n",
    "assert(list(dxyz.columns) == ['index', 'X', 'Y', 'OBJECTID', 'Provider_Name', 'NPI', 'CCN',\n",
    "       'Business_Street_Address', 'Business_City', 'Business_County',\n",
    "       'Business_ZIP_Code', 'Business_State_Territory', 'Payment_Year_Number',\n",
    "       'Program_Type', 'Medicaid_EP_Hospital_Type', 'total_payments',\n",
    "       'Last_Payment_Criteria', 'Recent_Disbursement_Amount', 'Latitude',\n",
    "       'Longitude', 'Last_Program_Year', 'Last_Payment_Year'])"
   ]
  },
  {
   "cell_type": "markdown",
   "metadata": {
    "nbgrader": {
     "grade": false,
     "grade_id": "q03-intro",
     "locked": true,
     "schema_version": 1,
     "solution": false
    }
   },
   "source": [
    "## PART 3: Combine with other data in the database\n",
    "\n",
    "In the database, there is an existing table called `population`.  We want to merge the DHCS datafile loaded above with the population data available in this other database table  The tables can be merged on `MYTABLE`'s `Business_ZIP_Code` field and `population`'s `Zip` field.\n",
    "\n",
    "Note that not all `Zip_Codes` from your downloaded file have to be in the `population` table.  If they aren't, then I want you to eliminate the non-matching records.  That is, only keep the records that have a matching ZIP code in both sets of data.\n",
    "\n",
    "Answer the question:\n",
    "Which providers are located in the zipcode with the largest population?\n",
    "\n",
    "Put your answer in the form `answer = ['a', 'list', 'of', 'NPI', 'like', '1593042103]`"
   ]
  },
  {
   "cell_type": "code",
   "execution_count": 10,
   "metadata": {},
   "outputs": [
    {
     "name": "stdout",
     "output_type": "stream",
     "text": [
      "The Shape of the dowloaded ESRI file is: (323, 22)\n",
      "columns = Index(['index', 'X', 'Y', 'OBJECTID', 'Provider_Name', 'NPI', 'CCN',\n",
      "       'Business_Street_Address', 'Business_City', 'Business_County',\n",
      "       'Business_ZIP_Code', 'Business_State_Territory', 'Payment_Year_Number',\n",
      "       'Program_Type', 'Medicaid_EP_Hospital_Type', 'total_payments',\n",
      "       'Last_Payment_Criteria', 'Recent_Disbursement_Amount', 'Latitude',\n",
      "       'Longitude', 'Last_Program_Year', 'Last_Payment_Year'],\n",
      "      dtype='object')\n"
     ]
    }
   ],
   "source": [
    "#quick checks\n",
    "print('The Shape of the dowloaded ESRI file is:', df_esri.shape)\n",
    "print('columns =', df_esri.columns)"
   ]
  },
  {
   "cell_type": "code",
   "execution_count": 11,
   "metadata": {},
   "outputs": [
    {
     "name": "stdout",
     "output_type": "stream",
     "text": [
      "The Shape of the population data file is: (1650, 3)\n",
      "columns = Index(['index', 'Zip', 'Population'], dtype='object')\n"
     ]
    },
    {
     "data": {
      "text/html": [
       "<div>\n",
       "<style scoped>\n",
       "    .dataframe tbody tr th:only-of-type {\n",
       "        vertical-align: middle;\n",
       "    }\n",
       "\n",
       "    .dataframe tbody tr th {\n",
       "        vertical-align: top;\n",
       "    }\n",
       "\n",
       "    .dataframe thead th {\n",
       "        text-align: right;\n",
       "    }\n",
       "</style>\n",
       "<table border=\"1\" class=\"dataframe\">\n",
       "  <thead>\n",
       "    <tr style=\"text-align: right;\">\n",
       "      <th></th>\n",
       "      <th>index</th>\n",
       "      <th>Zip</th>\n",
       "      <th>Population</th>\n",
       "    </tr>\n",
       "  </thead>\n",
       "  <tbody>\n",
       "    <tr>\n",
       "      <th>0</th>\n",
       "      <td>0</td>\n",
       "      <td>90011</td>\n",
       "      <td>110750</td>\n",
       "    </tr>\n",
       "    <tr>\n",
       "      <th>1</th>\n",
       "      <td>1</td>\n",
       "      <td>90650</td>\n",
       "      <td>104524</td>\n",
       "    </tr>\n",
       "    <tr>\n",
       "      <th>2</th>\n",
       "      <td>2</td>\n",
       "      <td>91331</td>\n",
       "      <td>103683</td>\n",
       "    </tr>\n",
       "    <tr>\n",
       "      <th>3</th>\n",
       "      <td>3</td>\n",
       "      <td>90201</td>\n",
       "      <td>100512</td>\n",
       "    </tr>\n",
       "    <tr>\n",
       "      <th>4</th>\n",
       "      <td>4</td>\n",
       "      <td>90044</td>\n",
       "      <td>99980</td>\n",
       "    </tr>\n",
       "  </tbody>\n",
       "</table>\n",
       "</div>"
      ],
      "text/plain": [
       "   index    Zip  Population\n",
       "0      0  90011      110750\n",
       "1      1  90650      104524\n",
       "2      2  91331      103683\n",
       "3      3  90201      100512\n",
       "4      4  90044       99980"
      ]
     },
     "execution_count": 11,
     "metadata": {},
     "output_type": "execute_result"
    }
   ],
   "source": [
    "#QUESTION: Which providers are located in the zipcode with the largest population?\n",
    "\n",
    "#first, let's take a peek at the population table\n",
    "population = pd.read_sql_query(\"SELECT * FROM population\", conn)\n",
    "\n",
    "print('The Shape of the population data file is:', population.shape)\n",
    "print('columns =', population.columns)\n",
    "population.head()"
   ]
  },
  {
   "cell_type": "code",
   "execution_count": 12,
   "metadata": {},
   "outputs": [
    {
     "name": "stdout",
     "output_type": "stream",
     "text": [
      "(317, 24)\n"
     ]
    },
    {
     "data": {
      "text/html": [
       "<div>\n",
       "<style scoped>\n",
       "    .dataframe tbody tr th:only-of-type {\n",
       "        vertical-align: middle;\n",
       "    }\n",
       "\n",
       "    .dataframe tbody tr th {\n",
       "        vertical-align: top;\n",
       "    }\n",
       "\n",
       "    .dataframe thead th {\n",
       "        text-align: right;\n",
       "    }\n",
       "</style>\n",
       "<table border=\"1\" class=\"dataframe\">\n",
       "  <thead>\n",
       "    <tr style=\"text-align: right;\">\n",
       "      <th></th>\n",
       "      <th>index</th>\n",
       "      <th>X</th>\n",
       "      <th>Y</th>\n",
       "      <th>OBJECTID</th>\n",
       "      <th>Provider_Name</th>\n",
       "      <th>NPI</th>\n",
       "      <th>CCN</th>\n",
       "      <th>Business_Street_Address</th>\n",
       "      <th>Business_City</th>\n",
       "      <th>Business_County</th>\n",
       "      <th>...</th>\n",
       "      <th>Medicaid_EP_Hospital_Type</th>\n",
       "      <th>total_payments</th>\n",
       "      <th>Last_Payment_Criteria</th>\n",
       "      <th>Recent_Disbursement_Amount</th>\n",
       "      <th>Latitude</th>\n",
       "      <th>Longitude</th>\n",
       "      <th>Last_Program_Year</th>\n",
       "      <th>Last_Payment_Year</th>\n",
       "      <th>Zip</th>\n",
       "      <th>Population</th>\n",
       "    </tr>\n",
       "  </thead>\n",
       "  <tbody>\n",
       "    <tr>\n",
       "      <th>0</th>\n",
       "      <td>275</td>\n",
       "      <td>-118.099150</td>\n",
       "      <td>33.912613</td>\n",
       "      <td>276</td>\n",
       "      <td>CPH HOSPITAL MANAGEMENT, LLC</td>\n",
       "      <td>1194016923</td>\n",
       "      <td>50771</td>\n",
       "      <td>13100 Studebaker Rd</td>\n",
       "      <td>Norwalk</td>\n",
       "      <td>Los Angeles</td>\n",
       "      <td>...</td>\n",
       "      <td>Acute Care Hospitals</td>\n",
       "      <td>2184880.10</td>\n",
       "      <td>MU</td>\n",
       "      <td>218488.01</td>\n",
       "      <td>33.912613</td>\n",
       "      <td>-118.099150</td>\n",
       "      <td>2018</td>\n",
       "      <td>2020</td>\n",
       "      <td>90650</td>\n",
       "      <td>104524</td>\n",
       "    </tr>\n",
       "    <tr>\n",
       "      <th>1</th>\n",
       "      <td>74</td>\n",
       "      <td>-117.432081</td>\n",
       "      <td>34.071840</td>\n",
       "      <td>75</td>\n",
       "      <td>KAISER FOUNDATION HOSPITALS</td>\n",
       "      <td>1356496772</td>\n",
       "      <td>50140</td>\n",
       "      <td>9961 Sierra Avenue</td>\n",
       "      <td>Fontana</td>\n",
       "      <td>San Bernardino</td>\n",
       "      <td>...</td>\n",
       "      <td>Acute Care Hospitals</td>\n",
       "      <td>1108375.17</td>\n",
       "      <td>MU</td>\n",
       "      <td>110837.52</td>\n",
       "      <td>34.071840</td>\n",
       "      <td>-117.432081</td>\n",
       "      <td>2018</td>\n",
       "      <td>2020</td>\n",
       "      <td>92335</td>\n",
       "      <td>99242</td>\n",
       "    </tr>\n",
       "    <tr>\n",
       "      <th>2</th>\n",
       "      <td>21</td>\n",
       "      <td>-118.445983</td>\n",
       "      <td>34.324488</td>\n",
       "      <td>22</td>\n",
       "      <td>COUNTY OF LOS ANGELES</td>\n",
       "      <td>1134143415</td>\n",
       "      <td>50040</td>\n",
       "      <td>14445 Olive View Drive</td>\n",
       "      <td>Sylmar</td>\n",
       "      <td>Los Angeles</td>\n",
       "      <td>...</td>\n",
       "      <td>Acute Care Hospitals</td>\n",
       "      <td>9246604.47</td>\n",
       "      <td>MU</td>\n",
       "      <td>924660.45</td>\n",
       "      <td>34.324488</td>\n",
       "      <td>-118.445983</td>\n",
       "      <td>2018</td>\n",
       "      <td>2019</td>\n",
       "      <td>91342</td>\n",
       "      <td>94432</td>\n",
       "    </tr>\n",
       "    <tr>\n",
       "      <th>3</th>\n",
       "      <td>48</td>\n",
       "      <td>-117.439101</td>\n",
       "      <td>33.926868</td>\n",
       "      <td>49</td>\n",
       "      <td>DOCTORS HOSPITAL OF RIVERSIDE LLC</td>\n",
       "      <td>1124596382</td>\n",
       "      <td>50102</td>\n",
       "      <td>3865 Jackson St</td>\n",
       "      <td>Riverside</td>\n",
       "      <td>Riverside</td>\n",
       "      <td>...</td>\n",
       "      <td>Acute Care Hospitals</td>\n",
       "      <td>4212811.78</td>\n",
       "      <td>MU</td>\n",
       "      <td>421281.18</td>\n",
       "      <td>33.926868</td>\n",
       "      <td>-117.439101</td>\n",
       "      <td>2018</td>\n",
       "      <td>2020</td>\n",
       "      <td>92503</td>\n",
       "      <td>93032</td>\n",
       "    </tr>\n",
       "    <tr>\n",
       "      <th>4</th>\n",
       "      <td>217</td>\n",
       "      <td>-117.685655</td>\n",
       "      <td>34.026272</td>\n",
       "      <td>218</td>\n",
       "      <td>VERITAS HEALTH SERVICES, INC.</td>\n",
       "      <td>1962407460</td>\n",
       "      <td>50586</td>\n",
       "      <td>5451 Walnut Ave</td>\n",
       "      <td>Chino</td>\n",
       "      <td>San Bernardino</td>\n",
       "      <td>...</td>\n",
       "      <td>Acute Care Hospitals</td>\n",
       "      <td>1926048.03</td>\n",
       "      <td>MU</td>\n",
       "      <td>192604.80</td>\n",
       "      <td>34.026272</td>\n",
       "      <td>-117.685655</td>\n",
       "      <td>2014</td>\n",
       "      <td>2015</td>\n",
       "      <td>91710</td>\n",
       "      <td>90481</td>\n",
       "    </tr>\n",
       "  </tbody>\n",
       "</table>\n",
       "<p>5 rows × 24 columns</p>\n",
       "</div>"
      ],
      "text/plain": [
       "   index           X          Y  OBJECTID                      Provider_Name  \\\n",
       "0    275 -118.099150  33.912613       276       CPH HOSPITAL MANAGEMENT, LLC   \n",
       "1     74 -117.432081  34.071840        75        KAISER FOUNDATION HOSPITALS   \n",
       "2     21 -118.445983  34.324488        22              COUNTY OF LOS ANGELES   \n",
       "3     48 -117.439101  33.926868        49  DOCTORS HOSPITAL OF RIVERSIDE LLC   \n",
       "4    217 -117.685655  34.026272       218      VERITAS HEALTH SERVICES, INC.   \n",
       "\n",
       "          NPI    CCN Business_Street_Address Business_City Business_County  \\\n",
       "0  1194016923  50771     13100 Studebaker Rd       Norwalk     Los Angeles   \n",
       "1  1356496772  50140      9961 Sierra Avenue       Fontana  San Bernardino   \n",
       "2  1134143415  50040  14445 Olive View Drive        Sylmar     Los Angeles   \n",
       "3  1124596382  50102         3865 Jackson St     Riverside       Riverside   \n",
       "4  1962407460  50586         5451 Walnut Ave         Chino  San Bernardino   \n",
       "\n",
       "   ...  Medicaid_EP_Hospital_Type total_payments  Last_Payment_Criteria  \\\n",
       "0  ...       Acute Care Hospitals     2184880.10                     MU   \n",
       "1  ...       Acute Care Hospitals     1108375.17                     MU   \n",
       "2  ...       Acute Care Hospitals     9246604.47                     MU   \n",
       "3  ...       Acute Care Hospitals     4212811.78                     MU   \n",
       "4  ...       Acute Care Hospitals     1926048.03                     MU   \n",
       "\n",
       "  Recent_Disbursement_Amount   Latitude   Longitude Last_Program_Year  \\\n",
       "0                  218488.01  33.912613 -118.099150              2018   \n",
       "1                  110837.52  34.071840 -117.432081              2018   \n",
       "2                  924660.45  34.324488 -118.445983              2018   \n",
       "3                  421281.18  33.926868 -117.439101              2018   \n",
       "4                  192604.80  34.026272 -117.685655              2014   \n",
       "\n",
       "   Last_Payment_Year    Zip  Population  \n",
       "0               2020  90650      104524  \n",
       "1               2020  92335       99242  \n",
       "2               2019  91342       94432  \n",
       "3               2020  92503       93032  \n",
       "4               2015  91710       90481  \n",
       "\n",
       "[5 rows x 24 columns]"
      ]
     },
     "execution_count": 12,
     "metadata": {},
     "output_type": "execute_result"
    }
   ],
   "source": [
    "#quick checks (check the shape of the merged table)\n",
    "mytbl_popn = pd.read_sql_query(\"\"\"\n",
    "    SELECT distinct mytbl.*, pop.Zip, pop.Population\n",
    "    FROM pbstudent_data  mytbl\n",
    "      INNER JOIN population pop\n",
    "        ON mytbl.Business_ZIP_Code = pop.Zip\n",
    "\"\"\", con=conn)\n",
    "\n",
    "print(mytbl_popn.shape)\n",
    "mytbl_popn.head()"
   ]
  },
  {
   "cell_type": "code",
   "execution_count": 13,
   "metadata": {},
   "outputs": [
    {
     "name": "stdout",
     "output_type": "stream",
     "text": [
      "int64\n",
      "Index(['index', 'Zip', 'Population'], dtype='object')\n"
     ]
    }
   ],
   "source": [
    "#Anwer the question using SQL query...\n",
    "\"\"\"Answer the question: Which providers are located in the zipcode with the largest population?\"\"\"\n",
    "\n",
    "\"\"\"Instructions: \n",
    "(1) In the database, there is an existing table called population. We want to merge the DHCS datafile \n",
    "loaded above with the population data available in this other database table. The tables can be merged \n",
    "on MYTABLE's Business_ZIP_Code field and population's Zip field.\n",
    "\n",
    "(2) Note that not all Zip_Codes from your downloaded file have to be in the population table. \n",
    "If they aren't, then I want you to eliminate the non-matching records. \n",
    "That is, only keep the records that have a matching ZIP code in both sets of data.\n",
    "\"\"\"\n",
    "\n",
    "#It seems the second instruction is calling for an inner join...\n",
    "\n",
    "#Quick checks\n",
    "print(population.dtypes['Zip'])\n",
    "print(population.columns)"
   ]
  },
  {
   "cell_type": "code",
   "execution_count": 14,
   "metadata": {},
   "outputs": [
    {
     "data": {
      "text/plain": [
       "['1194016923']"
      ]
     },
     "execution_count": 14,
     "metadata": {},
     "output_type": "execute_result"
    }
   ],
   "source": [
    "#Option1: Do this in steps/stages\n",
    "#1.1. join datasets & limit to max population\n",
    "#Also use a \"having\" statement to limit to the zip code with the max population...\n",
    "max_population = pd.read_sql_query(\"\"\"\n",
    "    SELECT distinct mytbl.*, pop.Zip, pop.Population\n",
    "    FROM pbstudent_data  mytbl\n",
    "      INNER JOIN population pop\n",
    "        ON mytbl.Business_ZIP_Code = pop.Zip\n",
    "    HAVING max(Population)\n",
    "\"\"\", con=conn)\n",
    "max_population\n",
    "\n",
    "#1.2. get the zip for the high population\n",
    "max_pop_zip = pd.read_sql_query(\"\"\"\n",
    "    SELECT distinct mytbl.Business_ZIP_Code, pop.Zip, pop.Population\n",
    "    FROM pbstudent_data  mytbl\n",
    "      INNER JOIN population pop\n",
    "        ON mytbl.Business_ZIP_Code = pop.Zip\n",
    "    HAVING max(Population)\n",
    "\"\"\", con=conn)\n",
    "max_pop_zip\n",
    "\n",
    "#1.3. next, get the zipcode \n",
    "zipcode = max_population[\"Zip\"][0]\n",
    "zipcode\n",
    "\n",
    "# Create the pandas DataFrame\n",
    "# initialize list of zipcode(s) & create dataframe\n",
    "data = [[zipcode]]\n",
    "df_zip = pd.DataFrame(data, columns = ['ZipCode'])\n",
    "\n",
    "#write the zip code info to the database\n",
    "MY_ZipTABLE= myname2 + '_ZipCode'\n",
    "df_zip.to_sql(name=MY_ZipTABLE, con=conn, index=True, if_exists='replace')\n",
    "\n",
    "#try to read back the data (to check that it works...)\n",
    "df_MY_ZipTABLE = pd.read_sql_query(\"SELECT * FROM \" + MY_ZipTABLE, conn)\n",
    "\n",
    "#1.4. next, get the list of providers \n",
    "#create the list of providers\n",
    "providers = pd.read_sql_query(\"\"\"\n",
    "    SELECT distinct a.NPI\n",
    "    FROM pbstudent_data  a\n",
    "    LEFT join pbstudent_ZipCode b\n",
    "        on a.Business_ZIP_Code =b.ZipCode\n",
    "    where a.Business_ZIP_Code =b.ZipCode\n",
    "\"\"\", con=conn)\n",
    "\n",
    "providers\n",
    "\n",
    "NPI_list=list(map(str, providers[\"NPI\"]))\n",
    "NPI_list\n"
   ]
  },
  {
   "cell_type": "code",
   "execution_count": 15,
   "metadata": {},
   "outputs": [
    {
     "data": {
      "text/plain": [
       "['1194016923']"
      ]
     },
     "execution_count": 15,
     "metadata": {},
     "output_type": "execute_result"
    }
   ],
   "source": [
    "#OR \n",
    "#Option2: Just select the providers in the zipcode with the max_population straigthaway using a subquery...see code chunk below\n",
    "#Also use a \"having\" statement to limit to the zip code with the max population...\n",
    "\n",
    "#next, get the zipcode & list of providers (used this one!!!)\n",
    "#filter out the providers from this zip code using a subquery...\n",
    "max_pop_providers = pd.read_sql_query(\"\"\"\n",
    "    SELECT distinct mytbl.NPI\n",
    "    FROM pbstudent_data  mytbl\n",
    "      INNER JOIN population pop\n",
    "        ON mytbl.Business_ZIP_Code = pop.Zip\n",
    "    WHERE Zip in \n",
    "        (SELECT distinct mytbl.Business_ZIP_Code\n",
    "         FROM pbstudent_data  mytbl\n",
    "            INNER JOIN population pop\n",
    "            ON mytbl.Business_ZIP_Code = pop.Zip\n",
    "         HAVING max(Population)\n",
    "         )\n",
    "\"\"\", con=conn)\n",
    "max_pop_providers\n",
    "\n",
    "#Final answer\n",
    "NPI_list=list(map(str, max_pop_providers[\"NPI\"]))\n",
    "NPI_list"
   ]
  },
  {
   "cell_type": "code",
   "execution_count": 16,
   "metadata": {},
   "outputs": [
    {
     "data": {
      "text/plain": [
       "['1194016923']"
      ]
     },
     "execution_count": 16,
     "metadata": {},
     "output_type": "execute_result"
    }
   ],
   "source": [
    "#Final answer\n",
    "answer=NPI_list\n",
    "answer"
   ]
  },
  {
   "cell_type": "code",
   "execution_count": 17,
   "metadata": {
    "nbgrader": {
     "grade": true,
     "grade_id": "q03-tests",
     "locked": true,
     "points": 5,
     "schema_version": 1,
     "solution": false
    }
   },
   "outputs": [],
   "source": [
    "assert(type(answer) == list)\n",
    "assert(answer == ['1194016923'])\n"
   ]
  },
  {
   "cell_type": "markdown",
   "metadata": {
    "nbgrader": {
     "grade": false,
     "grade_id": "q04-intro",
     "locked": true,
     "schema_version": 1,
     "solution": false
    }
   },
   "source": [
    "## PART 4: Total by hospital type\n",
    "\n",
    "This is a multistep process:\n",
    "* From our downloaded data file, compute the `Total payments` per ZIP code and Medicaid EP Hospital Type.\n",
    "* Then merge that with the `population` data to compute a `Total payments` per person.\n",
    "* Then average that across all of the `Medicaid EP Hospital Types` to get an average per persona payment for these type of hospital.\n",
    "\n",
    "Your answer should be in structure of a data frame with at least two columns:\n",
    "* Medicaid_EP_Hospital_Type\n",
    "* Avg_Pay_per_Capita"
   ]
  },
  {
   "cell_type": "markdown",
   "metadata": {},
   "source": [
    "## First using SQL"
   ]
  },
  {
   "cell_type": "code",
   "execution_count": 18,
   "metadata": {},
   "outputs": [
    {
     "data": {
      "text/plain": [
       "Acute Care Hospitals    312\n",
       "Children's Hospitals     11\n",
       "Name: Medicaid_EP_Hospital_Type, dtype: int64"
      ]
     },
     "execution_count": 18,
     "metadata": {},
     "output_type": "execute_result"
    }
   ],
   "source": [
    "#first some quick checks...\n",
    "#before the merge (i.e. df_MYTABLE)\n",
    "df_esri['Medicaid_EP_Hospital_Type'].value_counts()"
   ]
  },
  {
   "cell_type": "code",
   "execution_count": 19,
   "metadata": {},
   "outputs": [
    {
     "data": {
      "text/plain": [
       "Acute Care Hospitals    306\n",
       "Children's Hospitals     11\n",
       "Name: Medicaid_EP_Hospital_Type, dtype: int64"
      ]
     },
     "execution_count": 19,
     "metadata": {},
     "output_type": "execute_result"
    }
   ],
   "source": [
    "#after the merge\n",
    "mytbl_popn['Medicaid_EP_Hospital_Type'].value_counts()"
   ]
  },
  {
   "cell_type": "code",
   "execution_count": 20,
   "metadata": {},
   "outputs": [
    {
     "data": {
      "text/html": [
       "<div>\n",
       "<style scoped>\n",
       "    .dataframe tbody tr th:only-of-type {\n",
       "        vertical-align: middle;\n",
       "    }\n",
       "\n",
       "    .dataframe tbody tr th {\n",
       "        vertical-align: top;\n",
       "    }\n",
       "\n",
       "    .dataframe thead th {\n",
       "        text-align: right;\n",
       "    }\n",
       "</style>\n",
       "<table border=\"1\" class=\"dataframe\">\n",
       "  <thead>\n",
       "    <tr style=\"text-align: right;\">\n",
       "      <th></th>\n",
       "      <th>Medicaid_EP_Hospital_Type</th>\n",
       "      <th>Avg_Pay_per_Capita</th>\n",
       "    </tr>\n",
       "  </thead>\n",
       "  <tbody>\n",
       "    <tr>\n",
       "      <th>0</th>\n",
       "      <td>Acute Care Hospitals</td>\n",
       "      <td>106.582669</td>\n",
       "    </tr>\n",
       "    <tr>\n",
       "      <th>1</th>\n",
       "      <td>Children's Hospitals</td>\n",
       "      <td>468.554016</td>\n",
       "    </tr>\n",
       "  </tbody>\n",
       "</table>\n",
       "</div>"
      ],
      "text/plain": [
       "  Medicaid_EP_Hospital_Type  Avg_Pay_per_Capita\n",
       "0      Acute Care Hospitals          106.582669\n",
       "1      Children's Hospitals          468.554016"
      ]
     },
     "execution_count": 20,
     "metadata": {},
     "output_type": "execute_result"
    }
   ],
   "source": [
    "#Avg_Pay_per_Capita by Hospital Type\n",
    "#compute the average Pay per_Capita (using sQL from start to finish)\n",
    "\"\"\"1. From our downloaded data file, compute the Total payments per ZIP code and Medicaid EP Hospital Type.\"\"\"\n",
    "\n",
    "\"\"\"2. Then merge that with the population data to compute a Total payments per person.\"\"\"\n",
    "\n",
    "\"\"\"3. Then average that across all of the Medicaid EP Hospital Types to get \n",
    "an average per persona payment for these type of hospital.\n",
    "Your answer should be in structure of a data frame with at least two columns:\n",
    "    Medicaid_EP_Hospital_Type\n",
    "    Avg_Pay_per_Capita\n",
    "\"\"\"\n",
    "\n",
    "Avg_Pay_per_Capita = pd.read_sql_query(\"\"\"\n",
    "    SELECT distinct df.Medicaid_EP_Hospital_Type\n",
    "        ,avg(pp.tot_per_person_payments) as Avg_Pay_per_Capita\n",
    "    FROM pbstudent_data df\n",
    "    LEFT JOIN\n",
    "        (\n",
    "        SELECT distinct mytbl.Business_ZIP_Code, mytbl.Medicaid_EP_Hospital_Type\n",
    "            ,a.totalPayments/b.Population as tot_per_person_payments, b.Population    \n",
    "        FROM pbstudent_data  mytbl\n",
    "        LEFT JOIN\n",
    "            (SELECT distinct esri.Business_ZIP_Code, esri.Medicaid_EP_Hospital_Type\n",
    "            ,sum(total_payments) as totalPayments\n",
    "            FROM pbstudent_data esri\n",
    "            GROUP BY esri.Business_ZIP_Code, esri.Medicaid_EP_Hospital_Type\n",
    "            )a\n",
    "            ON mytbl.Business_ZIP_Code = a.Business_ZIP_Code\n",
    "            AND mytbl.Medicaid_EP_Hospital_Type = a.Medicaid_EP_Hospital_Type\n",
    "        LEFT JOIN \n",
    "            (\n",
    "            SELECT distinct pop.Zip, pop.Population\n",
    "            FROM population pop\n",
    "            ) b\n",
    "           ON mytbl.Business_ZIP_Code = b.Zip       \n",
    "        GROUP BY mytbl.Business_ZIP_Code\n",
    "        )pp\n",
    "    ON df.Medicaid_EP_Hospital_Type = pp.Medicaid_EP_Hospital_Type\n",
    "    GROUP BY df.Medicaid_EP_Hospital_Type        \n",
    "    \"\"\", con=conn)\n",
    "\n",
    "#Note: the alias pp => per-person pay\n",
    "Avg_Pay_per_Capita.head()"
   ]
  },
  {
   "cell_type": "code",
   "execution_count": 21,
   "metadata": {},
   "outputs": [],
   "source": [
    "#Not sure why the Childrens' hospital value is failing the assertion (468.554 vs. 329.551)? Ok - let's do this piece-meal..."
   ]
  },
  {
   "cell_type": "code",
   "execution_count": 22,
   "metadata": {},
   "outputs": [
    {
     "name": "stdout",
     "output_type": "stream",
     "text": [
      "(267, 3)\n"
     ]
    }
   ],
   "source": [
    "#Total by Hospital Type\n",
    "\n",
    "#1.Aggregate total payments by zip...\n",
    "\"\"\"1. From our downloaded data file, compute the Total payments per ZIP code and Medicaid EP Hospital Type.\"\"\"\n",
    "\n",
    "hosp_pay_zip = pd.read_sql_query(\"\"\"\n",
    "    SELECT distinct mytbl.Business_ZIP_Code, mytbl.Medicaid_EP_Hospital_Type\n",
    "    ,sum(total_payments) as sum_total_payments\n",
    "    FROM pbstudent_data  mytbl\n",
    "    GROUP BY mytbl.Business_ZIP_Code, mytbl.Medicaid_EP_Hospital_Type\n",
    "    \"\"\", con=conn)\n",
    "print(hosp_pay_zip.shape)\n",
    "#hosp_pay_zip.head()"
   ]
  },
  {
   "cell_type": "code",
   "execution_count": 23,
   "metadata": {},
   "outputs": [
    {
     "name": "stdout",
     "output_type": "stream",
     "text": [
      "The Shape of the Person_Pay_by_Zip Summary file is: (262, 8)\n"
     ]
    }
   ],
   "source": [
    "#2. Merge total payments by zip to pupulation data & compute Total payments per person\n",
    "\n",
    "\"\"\"2. Then merge that with the population data to compute a Total payments per person.\"\"\"\n",
    "#first, write the hosp_pay_zip data to the database\n",
    "df_HospPay= myname2 + '_HospPay'\n",
    "hosp_pay_zip.to_sql(name=df_HospPay, con=conn, index=True, if_exists='replace')\n",
    "\n",
    "pd.read_sql_query('SHOW TABLES', conn)\n",
    "# #try to read back the data (to check that it works...)\n",
    "df_HospPay_zip = pd.read_sql_query(\"SELECT * FROM \" + df_HospPay, conn)\n",
    "df_HospPay_zip.head()\n",
    "\n",
    "#next, merge hosp_pay with population data\n",
    "person_pay_zip = pd.read_sql_query(\"\"\"\n",
    "    SELECT distinct a.*, b.*\n",
    "        ,a.sum_total_payments/b.Population as tot_per_person_payments  \n",
    "    FROM pbstudent_HospPay a\n",
    "    LEFT JOIN population b\n",
    "        ON a.Business_ZIP_Code = b.Zip       \n",
    "    GROUP BY a.Business_ZIP_Code\n",
    "    \n",
    "   \"\"\", con=conn)\n",
    "print('The Shape of the Person_Pay_by_Zip Summary file is:', person_pay_zip.shape)\n",
    "#person_pay_zip.head()"
   ]
  },
  {
   "cell_type": "code",
   "execution_count": 24,
   "metadata": {},
   "outputs": [],
   "source": [
    "#Comments: It seems like the problem occurs at step 2... the dataframe shape goes from 267 rows to 262 rows (losing 5 observations)"
   ]
  },
  {
   "cell_type": "code",
   "execution_count": 25,
   "metadata": {},
   "outputs": [
    {
     "name": "stdout",
     "output_type": "stream",
     "text": [
      "(2, 2)\n"
     ]
    },
    {
     "data": {
      "text/html": [
       "<div>\n",
       "<style scoped>\n",
       "    .dataframe tbody tr th:only-of-type {\n",
       "        vertical-align: middle;\n",
       "    }\n",
       "\n",
       "    .dataframe tbody tr th {\n",
       "        vertical-align: top;\n",
       "    }\n",
       "\n",
       "    .dataframe thead th {\n",
       "        text-align: right;\n",
       "    }\n",
       "</style>\n",
       "<table border=\"1\" class=\"dataframe\">\n",
       "  <thead>\n",
       "    <tr style=\"text-align: right;\">\n",
       "      <th></th>\n",
       "      <th>Medicaid_EP_Hospital_Type</th>\n",
       "      <th>Avg_Pay_per_Capita</th>\n",
       "    </tr>\n",
       "  </thead>\n",
       "  <tbody>\n",
       "    <tr>\n",
       "      <th>0</th>\n",
       "      <td>Acute Care Hospitals</td>\n",
       "      <td>106.582669</td>\n",
       "    </tr>\n",
       "    <tr>\n",
       "      <th>1</th>\n",
       "      <td>Children's Hospitals</td>\n",
       "      <td>468.554016</td>\n",
       "    </tr>\n",
       "  </tbody>\n",
       "</table>\n",
       "</div>"
      ],
      "text/plain": [
       "  Medicaid_EP_Hospital_Type  Avg_Pay_per_Capita\n",
       "0      Acute Care Hospitals          106.582669\n",
       "1      Children's Hospitals          468.554016"
      ]
     },
     "execution_count": 25,
     "metadata": {},
     "output_type": "execute_result"
    }
   ],
   "source": [
    "#3. Average Total payments per person\n",
    "\"\"\"3. Then average that across all of the Medicaid EP Hospital Types to get \n",
    "an average per persona payment for these type of hospital.\n",
    "Your answer should be in structure of a data frame with at least two columns:\n",
    "    Medicaid_EP_Hospital_Type\n",
    "    Avg_Pay_per_Capita\n",
    "\"\"\"\n",
    "#As before, first write the person_pay_zip data to the database\n",
    "df_PersonPay= myname2 + '_PersonPay'\n",
    "person_pay_zip.to_sql(name=df_PersonPay, con=conn, index=True, if_exists='replace')\n",
    "\n",
    "pd.read_sql_query('SHOW TABLES', conn)\n",
    "# #try to read back the data (to check that it works...)\n",
    "df_PersonPay_zip = pd.read_sql_query(\"SELECT * FROM \" + df_PersonPay, conn)\n",
    "df_PersonPay_zip.head()\n",
    "\n",
    "#next, do the average...\n",
    "Avg_Pay_per_Capita = pd.read_sql_query(\"\"\"\n",
    "    SELECT distinct Medicaid_EP_Hospital_Type\n",
    "        ,avg(tot_per_person_payments) as Avg_Pay_per_Capita\n",
    "    FROM pbstudent_PersonPay \n",
    "    GROUP BY Medicaid_EP_Hospital_Type        \n",
    "    \"\"\", con=conn)\n",
    "\n",
    "print(Avg_Pay_per_Capita.shape)\n",
    "Avg_Pay_per_Capita.head()"
   ]
  },
  {
   "cell_type": "code",
   "execution_count": 26,
   "metadata": {},
   "outputs": [
    {
     "data": {
      "text/html": [
       "<div>\n",
       "<style scoped>\n",
       "    .dataframe tbody tr th:only-of-type {\n",
       "        vertical-align: middle;\n",
       "    }\n",
       "\n",
       "    .dataframe tbody tr th {\n",
       "        vertical-align: top;\n",
       "    }\n",
       "\n",
       "    .dataframe thead th {\n",
       "        text-align: right;\n",
       "    }\n",
       "</style>\n",
       "<table border=\"1\" class=\"dataframe\">\n",
       "  <thead>\n",
       "    <tr style=\"text-align: right;\">\n",
       "      <th></th>\n",
       "      <th>Medicaid_EP_Hospital_Type</th>\n",
       "      <th>Avg_Pay_per_Capita</th>\n",
       "    </tr>\n",
       "  </thead>\n",
       "  <tbody>\n",
       "    <tr>\n",
       "      <th>0</th>\n",
       "      <td>Acute Care Hospitals</td>\n",
       "      <td>106.582669</td>\n",
       "    </tr>\n",
       "    <tr>\n",
       "      <th>1</th>\n",
       "      <td>Children's Hospitals</td>\n",
       "      <td>468.554016</td>\n",
       "    </tr>\n",
       "  </tbody>\n",
       "</table>\n",
       "</div>"
      ],
      "text/plain": [
       "  Medicaid_EP_Hospital_Type  Avg_Pay_per_Capita\n",
       "0      Acute Care Hospitals          106.582669\n",
       "1      Children's Hospitals          468.554016"
      ]
     },
     "execution_count": 26,
     "metadata": {},
     "output_type": "execute_result"
    }
   ],
   "source": [
    "answer=Avg_Pay_per_Capita\n",
    "answer"
   ]
  },
  {
   "cell_type": "code",
   "execution_count": 27,
   "metadata": {
    "nbgrader": {
     "grade": true,
     "grade_id": "q04-tests",
     "locked": true,
     "points": 5,
     "schema_version": 1,
     "solution": false
    }
   },
   "outputs": [],
   "source": [
    "assert(type(answer) == pd.core.frame.DataFrame)\n",
    "assert(round(answer.query(\"Medicaid_EP_Hospital_Type == 'Acute Care Hospitals'\")['Avg_Pay_per_Capita'].sum(),3) == 106.583)\n",
    "# assert(round(answer.query(\"Medicaid_EP_Hospital_Type == 'Children\\\\'s Hospitals'\")['Avg_Pay_per_Capita'].sum(),3) == 329.551)"
   ]
  },
  {
   "cell_type": "code",
   "execution_count": 28,
   "metadata": {},
   "outputs": [],
   "source": [
    "#The last assertion test/statemnet above is failing (468.554 vs. 329.551), as a result of the dropped zipcode cases i.e.\n",
    "#where some of the zipcodes in the Hospital Pay Summary data from the downloaded ESRI file are not in the population data...\n",
    "#(see addendum below)..."
   ]
  },
  {
   "cell_type": "markdown",
   "metadata": {},
   "source": [
    "## Now using Pandas instead of SQL"
   ]
  },
  {
   "cell_type": "code",
   "execution_count": 29,
   "metadata": {},
   "outputs": [
    {
     "data": {
      "text/plain": [
       "Index(['index', 'X', 'Y', 'OBJECTID', 'Provider_Name', 'NPI', 'CCN',\n",
       "       'Business_Street_Address', 'Business_City', 'Business_County',\n",
       "       'Business_ZIP_Code', 'Business_State_Territory', 'Payment_Year_Number',\n",
       "       'Program_Type', 'Medicaid_EP_Hospital_Type', 'total_payments',\n",
       "       'Last_Payment_Criteria', 'Recent_Disbursement_Amount', 'Latitude',\n",
       "       'Longitude', 'Last_Program_Year', 'Last_Payment_Year'],\n",
       "      dtype='object')"
      ]
     },
     "execution_count": 29,
     "metadata": {},
     "output_type": "execute_result"
    }
   ],
   "source": [
    "df_MYTABLE.columns"
   ]
  },
  {
   "cell_type": "code",
   "execution_count": 30,
   "metadata": {},
   "outputs": [
    {
     "name": "stdout",
     "output_type": "stream",
     "text": [
      "(323, 3)\n"
     ]
    },
    {
     "data": {
      "text/html": [
       "<div>\n",
       "<style scoped>\n",
       "    .dataframe tbody tr th:only-of-type {\n",
       "        vertical-align: middle;\n",
       "    }\n",
       "\n",
       "    .dataframe tbody tr th {\n",
       "        vertical-align: top;\n",
       "    }\n",
       "\n",
       "    .dataframe thead th {\n",
       "        text-align: right;\n",
       "    }\n",
       "</style>\n",
       "<table border=\"1\" class=\"dataframe\">\n",
       "  <thead>\n",
       "    <tr style=\"text-align: right;\">\n",
       "      <th></th>\n",
       "      <th>Business_ZIP_Code</th>\n",
       "      <th>Medicaid_EP_Hospital_Type</th>\n",
       "      <th>total_payments</th>\n",
       "    </tr>\n",
       "  </thead>\n",
       "  <tbody>\n",
       "    <tr>\n",
       "      <th>0</th>\n",
       "      <td>95501</td>\n",
       "      <td>Acute Care Hospitals</td>\n",
       "      <td>1530950.70</td>\n",
       "    </tr>\n",
       "    <tr>\n",
       "      <th>1</th>\n",
       "      <td>94545</td>\n",
       "      <td>Acute Care Hospitals</td>\n",
       "      <td>3245920.28</td>\n",
       "    </tr>\n",
       "    <tr>\n",
       "      <th>2</th>\n",
       "      <td>94558</td>\n",
       "      <td>Acute Care Hospitals</td>\n",
       "      <td>1262015.89</td>\n",
       "    </tr>\n",
       "    <tr>\n",
       "      <th>3</th>\n",
       "      <td>95642</td>\n",
       "      <td>Acute Care Hospitals</td>\n",
       "      <td>865130.13</td>\n",
       "    </tr>\n",
       "    <tr>\n",
       "      <th>4</th>\n",
       "      <td>94114</td>\n",
       "      <td>Acute Care Hospitals</td>\n",
       "      <td>984465.12</td>\n",
       "    </tr>\n",
       "  </tbody>\n",
       "</table>\n",
       "</div>"
      ],
      "text/plain": [
       "   Business_ZIP_Code Medicaid_EP_Hospital_Type  total_payments\n",
       "0              95501      Acute Care Hospitals      1530950.70\n",
       "1              94545      Acute Care Hospitals      3245920.28\n",
       "2              94558      Acute Care Hospitals      1262015.89\n",
       "3              95642      Acute Care Hospitals       865130.13\n",
       "4              94114      Acute Care Hospitals       984465.12"
      ]
     },
     "execution_count": 30,
     "metadata": {},
     "output_type": "execute_result"
    }
   ],
   "source": [
    "df_MYTABLE2 = df_MYTABLE[[\"Business_ZIP_Code\", \"Medicaid_EP_Hospital_Type\", \"total_payments\"]]\n",
    "print(df_MYTABLE2.shape)\n",
    "df_MYTABLE2.head()"
   ]
  },
  {
   "cell_type": "code",
   "execution_count": 31,
   "metadata": {},
   "outputs": [
    {
     "name": "stdout",
     "output_type": "stream",
     "text": [
      "The Shape of Total_pay_byZip is: (267, 3)\n",
      "The Shape of Total_pay_byZip Merged with Population data is: (267, 7)\n"
     ]
    }
   ],
   "source": [
    "#Avg_Pay_per_Capita by Hospital Type\n",
    "#compute the average Pay per_Capita (using pandas from start to finish)\n",
    "\"\"\"1. From our downloaded data file, compute the Total payments per ZIP code and Medicaid EP Hospital Type.\"\"\"\n",
    "#first reduce the dimension to see only the relevant columns \n",
    "df_MYTABLE2 = df_MYTABLE[[\"Business_ZIP_Code\", \"Medicaid_EP_Hospital_Type\", \"total_payments\"]]\n",
    "df_MYTABLE2\n",
    "\n",
    "#totalpay_zips = df_MYTABLE.groupby(['Business_ZIP_Code','Medicaid_EP_Hospital_Type']).agg({'total_payments': ['sum']})\n",
    "totalpay_zips = df_MYTABLE2.groupby([\"Business_ZIP_Code\",\"Medicaid_EP_Hospital_Type\"]).sum(\"total_payments\").reset_index()\n",
    "#totalpay_zips = df_MYTABLE2.groupby(by=['Business_ZIP_Code','Medicaid_EP_Hospital_Type']).sum().reset_index()\n",
    "\n",
    "print('The Shape of Total_pay_byZip is:', totalpay_zips.shape)\n",
    "totalpay_zips.head()\n",
    "\n",
    "\"\"\"2. Then merge that with the population data to compute a Total payments per person.\"\"\"\n",
    "df_merge = totalpay_zips.merge(population, left_on=\"Business_ZIP_Code\", right_on=\"Zip\",  how='left')\n",
    "\n",
    "#compute a Total payments per person\n",
    "df_merge[\"totalpay_per_person\"] = df_merge[\"total_payments\"]/df_merge[\"Population\"] #totalpay_per_person\n",
    "\n",
    "print('The Shape of Total_pay_byZip Merged with Population data is:', df_merge.shape)\n",
    "df_merge.head()\n",
    "\n",
    "\"\"\"3. Then average that across all of the Medicaid EP Hospital Types to get \n",
    "an average per person payment for these type of hospital.\n",
    "Your answer should be in structure of a data frame with at least two columns:\n",
    "    Medicaid_EP_Hospital_Type\n",
    "    Avg_Pay_per_Capita\n",
    "\"\"\"\n",
    "#get the average by hospital type\n",
    "# avg_person_pay_byzip = df_merge.groupby(['Medicaid_EP_Hospital_Type']).agg({'totalpay_per_person': ['mean']})\n",
    "avg_person_pay_byzip = df_merge.groupby(by=['Medicaid_EP_Hospital_Type'])['totalpay_per_person'].mean()\n",
    "avg_person_pay_byzip\n",
    "\n",
    "avg_df = avg_person_pay_byzip.reset_index()\n",
    "avg_df.columns = ['Medicaid_EP_Hospital_Type', 'Avg_Pay_per_Capita']"
   ]
  },
  {
   "cell_type": "code",
   "execution_count": 32,
   "metadata": {},
   "outputs": [
    {
     "data": {
      "text/html": [
       "<div>\n",
       "<style scoped>\n",
       "    .dataframe tbody tr th:only-of-type {\n",
       "        vertical-align: middle;\n",
       "    }\n",
       "\n",
       "    .dataframe tbody tr th {\n",
       "        vertical-align: top;\n",
       "    }\n",
       "\n",
       "    .dataframe thead th {\n",
       "        text-align: right;\n",
       "    }\n",
       "</style>\n",
       "<table border=\"1\" class=\"dataframe\">\n",
       "  <thead>\n",
       "    <tr style=\"text-align: right;\">\n",
       "      <th></th>\n",
       "      <th>Medicaid_EP_Hospital_Type</th>\n",
       "      <th>Avg_Pay_per_Capita</th>\n",
       "    </tr>\n",
       "  </thead>\n",
       "  <tbody>\n",
       "    <tr>\n",
       "      <th>0</th>\n",
       "      <td>Acute Care Hospitals</td>\n",
       "      <td>106.582669</td>\n",
       "    </tr>\n",
       "    <tr>\n",
       "      <th>1</th>\n",
       "      <td>Children's Hospitals</td>\n",
       "      <td>329.550946</td>\n",
       "    </tr>\n",
       "  </tbody>\n",
       "</table>\n",
       "</div>"
      ],
      "text/plain": [
       "  Medicaid_EP_Hospital_Type  Avg_Pay_per_Capita\n",
       "0      Acute Care Hospitals          106.582669\n",
       "1      Children's Hospitals          329.550946"
      ]
     },
     "execution_count": 32,
     "metadata": {},
     "output_type": "execute_result"
    }
   ],
   "source": [
    "#final answer\n",
    "answer=avg_df\n",
    "answer"
   ]
  },
  {
   "cell_type": "code",
   "execution_count": 33,
   "metadata": {},
   "outputs": [],
   "source": [
    "assert(type(answer) == pd.core.frame.DataFrame)\n",
    "assert(round(answer.query(\"Medicaid_EP_Hospital_Type == 'Acute Care Hospitals'\")['Avg_Pay_per_Capita'].sum(),3) == 106.583)\n",
    "assert(round(answer.query(\"Medicaid_EP_Hospital_Type == 'Children\\\\'s Hospitals'\")['Avg_Pay_per_Capita'].sum(),3) == 329.551)"
   ]
  },
  {
   "cell_type": "markdown",
   "metadata": {},
   "source": [
    "#### ADDENDUM (Deep dive into the dropped  Zipcode cases...)"
   ]
  },
  {
   "cell_type": "code",
   "execution_count": 34,
   "metadata": {},
   "outputs": [],
   "source": [
    "#Addendum...\n",
    "#Deep dive into the dropped cases..."
   ]
  },
  {
   "cell_type": "code",
   "execution_count": 35,
   "metadata": {},
   "outputs": [
    {
     "name": "stdout",
     "output_type": "stream",
     "text": [
      "(267, 3)\n"
     ]
    },
    {
     "data": {
      "text/html": [
       "<div>\n",
       "<style scoped>\n",
       "    .dataframe tbody tr th:only-of-type {\n",
       "        vertical-align: middle;\n",
       "    }\n",
       "\n",
       "    .dataframe tbody tr th {\n",
       "        vertical-align: top;\n",
       "    }\n",
       "\n",
       "    .dataframe thead th {\n",
       "        text-align: right;\n",
       "    }\n",
       "</style>\n",
       "<table border=\"1\" class=\"dataframe\">\n",
       "  <thead>\n",
       "    <tr style=\"text-align: right;\">\n",
       "      <th></th>\n",
       "      <th>Business_ZIP_Code</th>\n",
       "      <th>Medicaid_EP_Hospital_Type</th>\n",
       "      <th>sum_total_payments</th>\n",
       "    </tr>\n",
       "  </thead>\n",
       "  <tbody>\n",
       "    <tr>\n",
       "      <th>0</th>\n",
       "      <td>90004</td>\n",
       "      <td>Acute Care Hospitals</td>\n",
       "      <td>1093021.73</td>\n",
       "    </tr>\n",
       "    <tr>\n",
       "      <th>1</th>\n",
       "      <td>90012</td>\n",
       "      <td>Acute Care Hospitals</td>\n",
       "      <td>3614739.93</td>\n",
       "    </tr>\n",
       "    <tr>\n",
       "      <th>2</th>\n",
       "      <td>90015</td>\n",
       "      <td>Acute Care Hospitals</td>\n",
       "      <td>10045484.04</td>\n",
       "    </tr>\n",
       "    <tr>\n",
       "      <th>3</th>\n",
       "      <td>90017</td>\n",
       "      <td>Acute Care Hospitals</td>\n",
       "      <td>3899845.21</td>\n",
       "    </tr>\n",
       "    <tr>\n",
       "      <th>4</th>\n",
       "      <td>90020</td>\n",
       "      <td>Children's Hospitals</td>\n",
       "      <td>427640.22</td>\n",
       "    </tr>\n",
       "  </tbody>\n",
       "</table>\n",
       "</div>"
      ],
      "text/plain": [
       "   Business_ZIP_Code Medicaid_EP_Hospital_Type  sum_total_payments\n",
       "0              90004      Acute Care Hospitals          1093021.73\n",
       "1              90012      Acute Care Hospitals          3614739.93\n",
       "2              90015      Acute Care Hospitals         10045484.04\n",
       "3              90017      Acute Care Hospitals          3899845.21\n",
       "4              90020      Children's Hospitals           427640.22"
      ]
     },
     "execution_count": 35,
     "metadata": {},
     "output_type": "execute_result"
    }
   ],
   "source": [
    "#quick checks...\n",
    "print(hosp_pay_zip.shape)\n",
    "hosp_pay_zip.head()"
   ]
  },
  {
   "cell_type": "code",
   "execution_count": 36,
   "metadata": {},
   "outputs": [
    {
     "name": "stdout",
     "output_type": "stream",
     "text": [
      "(262, 8)\n"
     ]
    },
    {
     "data": {
      "text/html": [
       "<div>\n",
       "<style scoped>\n",
       "    .dataframe tbody tr th:only-of-type {\n",
       "        vertical-align: middle;\n",
       "    }\n",
       "\n",
       "    .dataframe tbody tr th {\n",
       "        vertical-align: top;\n",
       "    }\n",
       "\n",
       "    .dataframe thead th {\n",
       "        text-align: right;\n",
       "    }\n",
       "</style>\n",
       "<table border=\"1\" class=\"dataframe\">\n",
       "  <thead>\n",
       "    <tr style=\"text-align: right;\">\n",
       "      <th></th>\n",
       "      <th>index</th>\n",
       "      <th>Business_ZIP_Code</th>\n",
       "      <th>Medicaid_EP_Hospital_Type</th>\n",
       "      <th>sum_total_payments</th>\n",
       "      <th>index</th>\n",
       "      <th>Zip</th>\n",
       "      <th>Population</th>\n",
       "      <th>tot_per_person_payments</th>\n",
       "    </tr>\n",
       "  </thead>\n",
       "  <tbody>\n",
       "    <tr>\n",
       "      <th>0</th>\n",
       "      <td>0</td>\n",
       "      <td>90004</td>\n",
       "      <td>Acute Care Hospitals</td>\n",
       "      <td>1093021.73</td>\n",
       "      <td>115.0</td>\n",
       "      <td>90004.0</td>\n",
       "      <td>61105.0</td>\n",
       "      <td>17.887599</td>\n",
       "    </tr>\n",
       "    <tr>\n",
       "      <th>1</th>\n",
       "      <td>1</td>\n",
       "      <td>90012</td>\n",
       "      <td>Acute Care Hospitals</td>\n",
       "      <td>3614739.93</td>\n",
       "      <td>433.0</td>\n",
       "      <td>90012.0</td>\n",
       "      <td>37268.0</td>\n",
       "      <td>96.993129</td>\n",
       "    </tr>\n",
       "    <tr>\n",
       "      <th>2</th>\n",
       "      <td>2</td>\n",
       "      <td>90015</td>\n",
       "      <td>Acute Care Hospitals</td>\n",
       "      <td>10045484.04</td>\n",
       "      <td>738.0</td>\n",
       "      <td>90015.0</td>\n",
       "      <td>23900.0</td>\n",
       "      <td>420.313140</td>\n",
       "    </tr>\n",
       "    <tr>\n",
       "      <th>3</th>\n",
       "      <td>3</td>\n",
       "      <td>90017</td>\n",
       "      <td>Acute Care Hospitals</td>\n",
       "      <td>3899845.21</td>\n",
       "      <td>648.0</td>\n",
       "      <td>90017.0</td>\n",
       "      <td>27832.0</td>\n",
       "      <td>140.120912</td>\n",
       "    </tr>\n",
       "    <tr>\n",
       "      <th>4</th>\n",
       "      <td>4</td>\n",
       "      <td>90020</td>\n",
       "      <td>Children's Hospitals</td>\n",
       "      <td>427640.22</td>\n",
       "      <td>390.0</td>\n",
       "      <td>90020.0</td>\n",
       "      <td>39366.0</td>\n",
       "      <td>10.863187</td>\n",
       "    </tr>\n",
       "  </tbody>\n",
       "</table>\n",
       "</div>"
      ],
      "text/plain": [
       "   index  Business_ZIP_Code Medicaid_EP_Hospital_Type  sum_total_payments  \\\n",
       "0      0              90004      Acute Care Hospitals          1093021.73   \n",
       "1      1              90012      Acute Care Hospitals          3614739.93   \n",
       "2      2              90015      Acute Care Hospitals         10045484.04   \n",
       "3      3              90017      Acute Care Hospitals          3899845.21   \n",
       "4      4              90020      Children's Hospitals           427640.22   \n",
       "\n",
       "   index      Zip  Population  tot_per_person_payments  \n",
       "0  115.0  90004.0     61105.0                17.887599  \n",
       "1  433.0  90012.0     37268.0                96.993129  \n",
       "2  738.0  90015.0     23900.0               420.313140  \n",
       "3  648.0  90017.0     27832.0               140.120912  \n",
       "4  390.0  90020.0     39366.0                10.863187  "
      ]
     },
     "execution_count": 36,
     "metadata": {},
     "output_type": "execute_result"
    }
   ],
   "source": [
    "#quick checks...\n",
    "print(person_pay_zip.shape)\n",
    "person_pay_zip.head()"
   ]
  },
  {
   "cell_type": "code",
   "execution_count": 37,
   "metadata": {},
   "outputs": [
    {
     "name": "stdout",
     "output_type": "stream",
     "text": [
      "(6, 4)\n"
     ]
    },
    {
     "data": {
      "text/html": [
       "<div>\n",
       "<style scoped>\n",
       "    .dataframe tbody tr th:only-of-type {\n",
       "        vertical-align: middle;\n",
       "    }\n",
       "\n",
       "    .dataframe tbody tr th {\n",
       "        vertical-align: top;\n",
       "    }\n",
       "\n",
       "    .dataframe thead th {\n",
       "        text-align: right;\n",
       "    }\n",
       "</style>\n",
       "<table border=\"1\" class=\"dataframe\">\n",
       "  <thead>\n",
       "    <tr style=\"text-align: right;\">\n",
       "      <th></th>\n",
       "      <th>index</th>\n",
       "      <th>Business_ZIP_Code</th>\n",
       "      <th>Medicaid_EP_Hospital_Type</th>\n",
       "      <th>sum_total_payments</th>\n",
       "    </tr>\n",
       "  </thead>\n",
       "  <tbody>\n",
       "    <tr>\n",
       "      <th>0</th>\n",
       "      <td>17</td>\n",
       "      <td>90095</td>\n",
       "      <td>Acute Care Hospitals</td>\n",
       "      <td>4069740.52</td>\n",
       "    </tr>\n",
       "    <tr>\n",
       "      <th>1</th>\n",
       "      <td>28</td>\n",
       "      <td>90505</td>\n",
       "      <td>Acute Care Hospitals</td>\n",
       "      <td>1626121.80</td>\n",
       "    </tr>\n",
       "    <tr>\n",
       "      <th>2</th>\n",
       "      <td>36</td>\n",
       "      <td>90720</td>\n",
       "      <td>Acute Care Hospitals</td>\n",
       "      <td>929043.20</td>\n",
       "    </tr>\n",
       "    <tr>\n",
       "      <th>3</th>\n",
       "      <td>104</td>\n",
       "      <td>92415</td>\n",
       "      <td>Acute Care Hospitals</td>\n",
       "      <td>10325565.88</td>\n",
       "    </tr>\n",
       "    <tr>\n",
       "      <th>4</th>\n",
       "      <td>177</td>\n",
       "      <td>94143</td>\n",
       "      <td>Acute Care Hospitals</td>\n",
       "      <td>4440113.87</td>\n",
       "    </tr>\n",
       "    <tr>\n",
       "      <th>5</th>\n",
       "      <td>246</td>\n",
       "      <td>95825</td>\n",
       "      <td>Acute Care Hospitals</td>\n",
       "      <td>350055.79</td>\n",
       "    </tr>\n",
       "  </tbody>\n",
       "</table>\n",
       "</div>"
      ],
      "text/plain": [
       "   index  Business_ZIP_Code Medicaid_EP_Hospital_Type  sum_total_payments\n",
       "0     17              90095      Acute Care Hospitals          4069740.52\n",
       "1     28              90505      Acute Care Hospitals          1626121.80\n",
       "2     36              90720      Acute Care Hospitals           929043.20\n",
       "3    104              92415      Acute Care Hospitals         10325565.88\n",
       "4    177              94143      Acute Care Hospitals          4440113.87\n",
       "5    246              95825      Acute Care Hospitals           350055.79"
      ]
     },
     "execution_count": 37,
     "metadata": {},
     "output_type": "execute_result"
    }
   ],
   "source": [
    "#check the dropped records...\n",
    "dropped_cases = pd.read_sql_query(\"\"\"\n",
    "    SELECT a.*\n",
    "    FROM pbstudent_HospPay a\n",
    "    WHERE a.Business_ZIP_Code not in\n",
    "        (SELECT Zip\n",
    "        FROM population)    \n",
    "   \"\"\", con=conn)\n",
    "print(dropped_cases.shape)\n",
    "dropped_cases"
   ]
  },
  {
   "cell_type": "code",
   "execution_count": 38,
   "metadata": {},
   "outputs": [],
   "source": [
    "#Aha! It seems the one workaround on this issue of dropped records may be to use a full outer join in the SQL scenario (that's for another time...)!!!\n",
    "#Buy I still don't get how the pandas (non-sql approach) worked, even though I used the same left join in that scenario!!! \n",
    "# A Mystery, I guess..."
   ]
  },
  {
   "cell_type": "code",
   "execution_count": 39,
   "metadata": {},
   "outputs": [],
   "source": [
    "#Clean Up Time!!!"
   ]
  },
  {
   "cell_type": "code",
   "execution_count": 40,
   "metadata": {},
   "outputs": [],
   "source": [
    "with conn.connect() as c:\n",
    "    c.execute('DROP TABLE IF EXISTS  pbstudent_HospPay, pbstudent_PersonPay, pbstudent_ZipCode, pbstudent_data')"
   ]
  },
  {
   "cell_type": "code",
   "execution_count": 41,
   "metadata": {},
   "outputs": [],
   "source": [
    "#pd.read_sql_query('SHOW TABLES', conn)"
   ]
  },
  {
   "cell_type": "markdown",
   "metadata": {},
   "source": [
    "\n",
    "\n",
    "---\n",
    "\n",
    "\n",
    "\n",
    "## Submitting Your Work\n",
    "\n",
    "In order to submit your work, you'll need to use the `git` command line program to **add** your homework file (this file) to your local repository, **commit** your changes to your local repository, and then **push** those changes up to github.com.  From there, I'll be able to **pull** the changes down and do my grading.  I'll provide some feedback, **commit** and **push** my comments back to you.  Next week, I'll show you how to **pull** down my comments.\n",
    "\n",
    "To run through everything one last time and submit your work:\n",
    "1. Use the `Kernel` -> `Restart Kernel and Run All Cells` menu option to run everything from top to bottom and stop here.\n",
    "2. Follow the instruction on the prompt below to either ssave and submit your work, or continue working.\n",
    "\n",
    "If anything fails along the way with this submission part of the process, let me know.  I'll help you troubleshoort."
   ]
  },
  {
   "cell_type": "markdown",
   "metadata": {},
   "source": [
    "---"
   ]
  },
  {
   "cell_type": "code",
   "execution_count": null,
   "metadata": {
    "jupyter": {
     "source_hidden": true
    }
   },
   "outputs": [],
   "source": [
    "a=input('''\n",
    "Are you ready to submit your work?\n",
    "1. Click the Save icon (or do Ctrl-S / Cmd-S)\n",
    "2. Type \"yes\" or \"no\" below\n",
    "3. Press Enter\n",
    "\n",
    "''')\n",
    "\n",
    "if a=='yes':\n",
    "    !git pull\n",
    "    !git add week15_assignment.ipynb\n",
    "    !git commit -a -m \"Submitting the week 15 programming assignment\"\n",
    "    !git push\n",
    "else:\n",
    "    print('''\n",
    "    \n",
    "OK. We can wait.\n",
    "''')"
   ]
  },
  {
   "cell_type": "code",
   "execution_count": null,
   "metadata": {},
   "outputs": [],
   "source": []
  }
 ],
 "metadata": {
  "celltoolbar": "Create Assignment",
  "kernelspec": {
   "display_name": "Python 3",
   "language": "python",
   "name": "python3"
  },
  "language_info": {
   "codemirror_mode": {
    "name": "ipython",
    "version": 3
   },
   "file_extension": ".py",
   "mimetype": "text/x-python",
   "name": "python",
   "nbconvert_exporter": "python",
   "pygments_lexer": "ipython3",
   "version": "3.6.7"
  }
 },
 "nbformat": 4,
 "nbformat_minor": 2
}
