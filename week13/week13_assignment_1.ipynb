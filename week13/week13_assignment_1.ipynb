{
 "cells": [
  {
   "cell_type": "markdown",
   "metadata": {
    "nbgrader": {
     "grade": false,
     "grade_id": "cell-fc1c39d0d6f8b82a",
     "locked": true,
     "schema_version": 1,
     "solution": false
    }
   },
   "source": [
    "# Week 13 Review Assignmnet\n",
    "\n",
    "For the questions below, we're going to refer exclusively to an HHCAPS survey data set that is available in `/data/hhcaps.csv`.  Use whatever commands you want to calculate the information required to get to the answer.  Then, enter your answer in the answers cell as usual.\n",
    "\n",
    "**NOTE: Enter your answers as string values (inside quotation marks \"\") even if the answer is actually numeric.**\n",
    "\n",
    "---\n",
    "---\n"
   ]
  },
  {
   "cell_type": "code",
   "execution_count": 1,
   "metadata": {
    "nbgrader": {
     "grade": false,
     "grade_id": "intro",
     "locked": true,
     "schema_version": 1,
     "solution": false
    }
   },
   "outputs": [],
   "source": [
    "%matplotlib inline\n",
    "import pandas as pd\n",
    "import numpy as np\n",
    "\n",
    "hhcaps = pd.read_csv('/data/hhcaps.csv')"
   ]
  },
  {
   "cell_type": "code",
   "execution_count": 2,
   "metadata": {},
   "outputs": [
    {
     "data": {
      "text/html": [
       "<div>\n",
       "<style scoped>\n",
       "    .dataframe tbody tr th:only-of-type {\n",
       "        vertical-align: middle;\n",
       "    }\n",
       "\n",
       "    .dataframe tbody tr th {\n",
       "        vertical-align: top;\n",
       "    }\n",
       "\n",
       "    .dataframe thead th {\n",
       "        text-align: right;\n",
       "    }\n",
       "</style>\n",
       "<table border=\"1\" class=\"dataframe\">\n",
       "  <thead>\n",
       "    <tr style=\"text-align: right;\">\n",
       "      <th></th>\n",
       "      <th>State</th>\n",
       "      <th>CMS Certification Number (CCN)*</th>\n",
       "      <th>Provider Name</th>\n",
       "      <th>Address</th>\n",
       "      <th>City</th>\n",
       "      <th>Zip</th>\n",
       "      <th>Phone</th>\n",
       "      <th>Type of Ownership</th>\n",
       "      <th>Offers Nursing Care Services</th>\n",
       "      <th>Offers Physical Therapy Services</th>\n",
       "      <th>...</th>\n",
       "      <th>Star Rating for how patients rated overall care from agency</th>\n",
       "      <th>Footnote for Star Rating for overall care from agency</th>\n",
       "      <th>Percent of patients who gave their home health agency a rating of 9 or 10 on a scale from 0 (lowest) to 10 (highest)</th>\n",
       "      <th>Footnote for percent of patients who gave their home health agency a rating of 9 or 10 on a scale from 0 (lowest) to 10 (highest)</th>\n",
       "      <th>Percent of patients who reported YES, they would definitely recommend the home health agency to friends and family</th>\n",
       "      <th>Footnote for percent of patients who reported YES, they would definitely recommend the home health agency to friends and family</th>\n",
       "      <th>Number of completed Surveys</th>\n",
       "      <th>Footnote for number of completed surveys</th>\n",
       "      <th>Response rate</th>\n",
       "      <th>Footnote for response rate</th>\n",
       "    </tr>\n",
       "  </thead>\n",
       "  <tbody>\n",
       "    <tr>\n",
       "      <th>0</th>\n",
       "      <td>AL</td>\n",
       "      <td>17000</td>\n",
       "      <td>BUREAU OF HOME &amp; COMMUNITY SERVICES           ...</td>\n",
       "      <td>201 MONROE STREET, THE RSA TOWER,  SUITE 1200 ...</td>\n",
       "      <td>MONTGOMERY</td>\n",
       "      <td>36104</td>\n",
       "      <td>3342065341</td>\n",
       "      <td>Official Health Agency</td>\n",
       "      <td>True</td>\n",
       "      <td>True</td>\n",
       "      <td>...</td>\n",
       "      <td>NaN</td>\n",
       "      <td>No survey results are available for this period.</td>\n",
       "      <td>Not Available</td>\n",
       "      <td>No survey results are available for this period.</td>\n",
       "      <td>Not Available</td>\n",
       "      <td>No survey results are available for this period.</td>\n",
       "      <td>Not Available</td>\n",
       "      <td>No survey results are available for this period.</td>\n",
       "      <td>Not Available</td>\n",
       "      <td>No survey results are available for this period.</td>\n",
       "    </tr>\n",
       "    <tr>\n",
       "      <th>1</th>\n",
       "      <td>AL</td>\n",
       "      <td>17008</td>\n",
       "      <td>JEFFERSON COUNTY HOME CARE                    ...</td>\n",
       "      <td>2201 ARLINGTON AVENUE                         ...</td>\n",
       "      <td>BESSEMER</td>\n",
       "      <td>35020</td>\n",
       "      <td>2059169500</td>\n",
       "      <td>Official Health Agency</td>\n",
       "      <td>True</td>\n",
       "      <td>True</td>\n",
       "      <td>...</td>\n",
       "      <td>4.0</td>\n",
       "      <td>Fewer than 100 patients completed the survey. ...</td>\n",
       "      <td>91</td>\n",
       "      <td>Fewer than 100 patients completed the survey. ...</td>\n",
       "      <td>77</td>\n",
       "      <td>Fewer than 100 patients completed the survey. ...</td>\n",
       "      <td>55</td>\n",
       "      <td>Fewer than 100 patients completed the survey. ...</td>\n",
       "      <td>23</td>\n",
       "      <td>Fewer than 100 patients completed the survey. ...</td>\n",
       "    </tr>\n",
       "    <tr>\n",
       "      <th>2</th>\n",
       "      <td>AL</td>\n",
       "      <td>17009</td>\n",
       "      <td>ALACARE HOME HEALTH &amp; HOSPICE                 ...</td>\n",
       "      <td>2970 LORNA ROAD                               ...</td>\n",
       "      <td>BIRMINGHAM</td>\n",
       "      <td>35216</td>\n",
       "      <td>2058242680</td>\n",
       "      <td>Local</td>\n",
       "      <td>True</td>\n",
       "      <td>True</td>\n",
       "      <td>...</td>\n",
       "      <td>4.0</td>\n",
       "      <td>NaN</td>\n",
       "      <td>88</td>\n",
       "      <td>NaN</td>\n",
       "      <td>81</td>\n",
       "      <td>NaN</td>\n",
       "      <td>327</td>\n",
       "      <td>NaN</td>\n",
       "      <td>32</td>\n",
       "      <td>NaN</td>\n",
       "    </tr>\n",
       "    <tr>\n",
       "      <th>3</th>\n",
       "      <td>AL</td>\n",
       "      <td>17013</td>\n",
       "      <td>GENTIVA HEALTH SERVICES                       ...</td>\n",
       "      <td>1239 RUCKER BLVD                              ...</td>\n",
       "      <td>ENTERPRISE</td>\n",
       "      <td>36330</td>\n",
       "      <td>3343470234</td>\n",
       "      <td>Official Health Agency</td>\n",
       "      <td>True</td>\n",
       "      <td>True</td>\n",
       "      <td>...</td>\n",
       "      <td>4.0</td>\n",
       "      <td>NaN</td>\n",
       "      <td>91</td>\n",
       "      <td>NaN</td>\n",
       "      <td>91</td>\n",
       "      <td>NaN</td>\n",
       "      <td>252</td>\n",
       "      <td>NaN</td>\n",
       "      <td>34</td>\n",
       "      <td>NaN</td>\n",
       "    </tr>\n",
       "    <tr>\n",
       "      <th>4</th>\n",
       "      <td>AL</td>\n",
       "      <td>17014</td>\n",
       "      <td>AMEDISYS HOME HEALTH                          ...</td>\n",
       "      <td>68278 MAIN STREET                             ...</td>\n",
       "      <td>BLOUNTSVILLE</td>\n",
       "      <td>35031</td>\n",
       "      <td>2054294919</td>\n",
       "      <td>Local</td>\n",
       "      <td>True</td>\n",
       "      <td>True</td>\n",
       "      <td>...</td>\n",
       "      <td>4.0</td>\n",
       "      <td>NaN</td>\n",
       "      <td>88</td>\n",
       "      <td>NaN</td>\n",
       "      <td>79</td>\n",
       "      <td>NaN</td>\n",
       "      <td>205</td>\n",
       "      <td>NaN</td>\n",
       "      <td>34</td>\n",
       "      <td>NaN</td>\n",
       "    </tr>\n",
       "  </tbody>\n",
       "</table>\n",
       "<p>5 rows × 39 columns</p>\n",
       "</div>"
      ],
      "text/plain": [
       "  State  CMS Certification Number (CCN)*  \\\n",
       "0    AL                            17000   \n",
       "1    AL                            17008   \n",
       "2    AL                            17009   \n",
       "3    AL                            17013   \n",
       "4    AL                            17014   \n",
       "\n",
       "                                       Provider Name  \\\n",
       "0  BUREAU OF HOME & COMMUNITY SERVICES           ...   \n",
       "1  JEFFERSON COUNTY HOME CARE                    ...   \n",
       "2  ALACARE HOME HEALTH & HOSPICE                 ...   \n",
       "3  GENTIVA HEALTH SERVICES                       ...   \n",
       "4  AMEDISYS HOME HEALTH                          ...   \n",
       "\n",
       "                                             Address                  City  \\\n",
       "0  201 MONROE STREET, THE RSA TOWER,  SUITE 1200 ...  MONTGOMERY             \n",
       "1  2201 ARLINGTON AVENUE                         ...  BESSEMER               \n",
       "2  2970 LORNA ROAD                               ...  BIRMINGHAM             \n",
       "3  1239 RUCKER BLVD                              ...  ENTERPRISE             \n",
       "4  68278 MAIN STREET                             ...  BLOUNTSVILLE           \n",
       "\n",
       "     Zip       Phone       Type of Ownership  Offers Nursing Care Services  \\\n",
       "0  36104  3342065341  Official Health Agency                          True   \n",
       "1  35020  2059169500  Official Health Agency                          True   \n",
       "2  35216  2058242680                   Local                          True   \n",
       "3  36330  3343470234  Official Health Agency                          True   \n",
       "4  35031  2054294919                   Local                          True   \n",
       "\n",
       "   Offers Physical Therapy Services  ...  \\\n",
       "0                              True  ...   \n",
       "1                              True  ...   \n",
       "2                              True  ...   \n",
       "3                              True  ...   \n",
       "4                              True  ...   \n",
       "\n",
       "   Star Rating for how patients rated overall care from agency  \\\n",
       "0                                                NaN             \n",
       "1                                                4.0             \n",
       "2                                                4.0             \n",
       "3                                                4.0             \n",
       "4                                                4.0             \n",
       "\n",
       "   Footnote for Star Rating for overall care from agency  \\\n",
       "0   No survey results are available for this period.       \n",
       "1  Fewer than 100 patients completed the survey. ...       \n",
       "2                                                NaN       \n",
       "3                                                NaN       \n",
       "4                                                NaN       \n",
       "\n",
       "   Percent of patients who gave their home health agency a rating of 9 or 10 on a scale from 0 (lowest) to 10 (highest)  \\\n",
       "0                                      Not Available                                                                      \n",
       "1                                                 91                                                                      \n",
       "2                                                 88                                                                      \n",
       "3                                                 91                                                                      \n",
       "4                                                 88                                                                      \n",
       "\n",
       "   Footnote for percent of patients who gave their home health agency a rating of 9 or 10 on a scale from 0 (lowest) to 10 (highest)  \\\n",
       "0   No survey results are available for this period.                                                                                   \n",
       "1  Fewer than 100 patients completed the survey. ...                                                                                   \n",
       "2                                                NaN                                                                                   \n",
       "3                                                NaN                                                                                   \n",
       "4                                                NaN                                                                                   \n",
       "\n",
       "  Percent of patients who reported YES, they would definitely recommend the home health agency to friends and family  \\\n",
       "0                                      Not Available                                                                   \n",
       "1                                                 77                                                                   \n",
       "2                                                 81                                                                   \n",
       "3                                                 91                                                                   \n",
       "4                                                 79                                                                   \n",
       "\n",
       "   Footnote for percent of patients who reported YES, they would definitely recommend the home health agency to friends and family  \\\n",
       "0   No survey results are available for this period.                                                                                 \n",
       "1  Fewer than 100 patients completed the survey. ...                                                                                 \n",
       "2                                                NaN                                                                                 \n",
       "3                                                NaN                                                                                 \n",
       "4                                                NaN                                                                                 \n",
       "\n",
       "  Number of completed Surveys  \\\n",
       "0               Not Available   \n",
       "1                          55   \n",
       "2                         327   \n",
       "3                         252   \n",
       "4                         205   \n",
       "\n",
       "            Footnote for number of completed surveys  Response rate  \\\n",
       "0   No survey results are available for this period.  Not Available   \n",
       "1  Fewer than 100 patients completed the survey. ...             23   \n",
       "2                                                NaN             32   \n",
       "3                                                NaN             34   \n",
       "4                                                NaN             34   \n",
       "\n",
       "                          Footnote for response rate  \n",
       "0   No survey results are available for this period.  \n",
       "1  Fewer than 100 patients completed the survey. ...  \n",
       "2                                                NaN  \n",
       "3                                                NaN  \n",
       "4                                                NaN  \n",
       "\n",
       "[5 rows x 39 columns]"
      ]
     },
     "execution_count": 2,
     "metadata": {},
     "output_type": "execute_result"
    }
   ],
   "source": [
    "#quick eyeball of the file\n",
    "hhcaps.head()\n",
    "#hhcaps.head(10)\n",
    "#hhcaps.columns"
   ]
  },
  {
   "cell_type": "markdown",
   "metadata": {
    "nbgrader": {
     "grade": false,
     "grade_id": "q01-intro",
     "locked": true,
     "schema_version": 1,
     "solution": false
    }
   },
   "source": [
    "## #01 - \n",
    "\n",
    "How many columns does this file contain?"
   ]
  },
  {
   "cell_type": "code",
   "execution_count": 3,
   "metadata": {},
   "outputs": [
    {
     "name": "stdout",
     "output_type": "stream",
     "text": [
      "Number of columns : 39\n",
      "Number of columns : 39\n",
      "Number of columns : 39\n"
     ]
    }
   ],
   "source": [
    "# Write some code to figure it out\n",
    "\n",
    "#Method 1: Using shape property \n",
    "# Getting shape of the df\n",
    "shape = hhcaps.shape  \n",
    "# Printing Number of columns\n",
    "print('Number of columns :', shape[1])\n",
    "\n",
    "#Method 2: Using columns property\n",
    "# Getting the list of columns & using len()\n",
    "col = hhcaps.columns\n",
    "# Printing Number of columns\n",
    "print('Number of columns :', len(col))\n",
    "\n",
    "#Method 3: Casting DataFrame to list & using len()\n",
    "# Typecasting df to list\n",
    "df_list = list(hhcaps)\n",
    "# Printing Number of columns\n",
    "print('Number of columns :', len(df_list))  \n",
    "     \n",
    "#Method 4: Using info() method of DataFrame \n",
    "# Printing info of df\n",
    "#hhcaps.info()"
   ]
  },
  {
   "cell_type": "code",
   "execution_count": 4,
   "metadata": {
    "nbgrader": {
     "grade": false,
     "grade_id": "q01-solution",
     "locked": false,
     "schema_version": 1,
     "solution": true
    }
   },
   "outputs": [],
   "source": [
    "answers={}\n",
    "answers['40.1'] = \"39\""
   ]
  },
  {
   "cell_type": "markdown",
   "metadata": {
    "nbgrader": {
     "grade": false,
     "grade_id": "q02-intro",
     "locked": true,
     "schema_version": 1,
     "solution": false
    }
   },
   "source": [
    "## #02 - \n",
    "\n",
    "How many different values for State are there in this file?"
   ]
  },
  {
   "cell_type": "code",
   "execution_count": 5,
   "metadata": {},
   "outputs": [
    {
     "data": {
      "text/plain": [
       "TX    2518\n",
       "CA    1319\n",
       "FL    1069\n",
       "OH     781\n",
       "IL     735\n",
       "MI     597\n",
       "PA     425\n",
       "MA     261\n",
       "OK     256\n",
       "VA     244\n",
       "IN     229\n",
       "MN     197\n",
       "LA     195\n",
       "CO     187\n",
       "NC     174\n",
       "AR     172\n",
       "AZ     169\n",
       "MO     169\n",
       "IA     163\n",
       "AL     152\n",
       "NV     143\n",
       "NY     141\n",
       "TN     140\n",
       "WI     119\n",
       "KS     117\n",
       "GA     106\n",
       "KY     104\n",
       "UT      98\n",
       "CT      91\n",
       "NM      77\n",
       "NE      75\n",
       "SC      70\n",
       "WA      63\n",
       "WV      61\n",
       "OR      57\n",
       "MD      53\n",
       "MS      48\n",
       "NJ      47\n",
       "ID      45\n",
       "PR      45\n",
       "SD      33\n",
       "NH      31\n",
       "DC      28\n",
       "RI      27\n",
       "MT      27\n",
       "WY      26\n",
       "DE      26\n",
       "ME      24\n",
       "ND      18\n",
       "HI      16\n",
       "AK      14\n",
       "VT      11\n",
       "GU       4\n",
       "MP       2\n",
       "VI       1\n",
       "Name: State, dtype: int64"
      ]
     },
     "execution_count": 5,
     "metadata": {},
     "output_type": "execute_result"
    }
   ],
   "source": [
    "#quick checks\n",
    "hhcaps.State.value_counts()\n",
    "#hhcaps.groupby(\"State\").count()"
   ]
  },
  {
   "cell_type": "code",
   "execution_count": 6,
   "metadata": {},
   "outputs": [
    {
     "name": "stdout",
     "output_type": "stream",
     "text": [
      "No.of.unique values for State: 55\n",
      "No.of.unique values for State: 55\n",
      "No.of.unique values for State: 55\n",
      "No.of.unique values for State: 55\n"
     ]
    }
   ],
   "source": [
    "# Write some code to figure it out\n",
    "\n",
    "# counting unique values\n",
    "#Method 1: pandas.unique(column)\n",
    "n = len(pd.unique(hhcaps['State']))  \n",
    "print(\"No.of.unique values for State:\", n)\n",
    "\n",
    "#Method 2: Series.value_counts()\n",
    "# count no. of unique values in State column\n",
    "n = hhcaps.State.nunique()  \n",
    "print(\"No.of.unique values for State:\", n)\n",
    "\n",
    "#Method 3: getting the list of unique values (using list, value_counts & len)\n",
    "li = list(hhcaps.State.value_counts())  \n",
    "print(\"No.of.unique values for State:\", len(li))\n",
    "\n",
    "#Method 4:getting the list of unique values (using value_counts & len only)\n",
    "value_cnts = hhcaps['State'].value_counts()\n",
    "#OR\n",
    "# value_cnts = hhcaps.State.value_counts()\n",
    "print('No.of.unique values for State:', len(value_cnts))\n",
    "\n",
    "# uniq_cnts = hhcaps.groupby('State').unique()\n",
    "# print('No.of.unique values for State:', uniq_cnts)"
   ]
  },
  {
   "cell_type": "code",
   "execution_count": 7,
   "metadata": {
    "nbgrader": {
     "grade": false,
     "grade_id": "q02-solution",
     "locked": false,
     "schema_version": 1,
     "solution": true
    }
   },
   "outputs": [],
   "source": [
    "answers={}\n",
    "answers['40.2'] = \"55\""
   ]
  },
  {
   "cell_type": "markdown",
   "metadata": {
    "nbgrader": {
     "grade": false,
     "grade_id": "q03-intro",
     "locked": true,
     "schema_version": 1,
     "solution": false
    }
   },
   "source": [
    "## #03 - \n",
    "\n",
    "Which of those State values has the highest frequency of occurence?"
   ]
  },
  {
   "cell_type": "code",
   "execution_count": 8,
   "metadata": {
    "nbgrader": {
     "grade": false,
     "grade_id": "q03-solution",
     "locked": false,
     "schema_version": 1,
     "solution": true
    }
   },
   "outputs": [
    {
     "name": "stdout",
     "output_type": "stream",
     "text": [
      "TX is the State with the highest frequency of occurrence: 2518\n"
     ]
    }
   ],
   "source": [
    "# Write some code to figure it out\n",
    "\n",
    "#first, get unique counts for the values of the State field\n",
    "state_uniq = hhcaps.State.value_counts()\n",
    "\n",
    "#next, find the max value across all states\n",
    "maxVal = state_uniq.max()\n",
    "\n",
    "#next, find the index position of maximum value in the State column\n",
    "maxValueIndex = state_uniq.idxmax()\n",
    " \n",
    "#print(\"Maximum values of columns are at row index position :\")\n",
    "print(maxValueIndex, \"is the State with the highest frequency of occurrence:\", maxVal)\n"
   ]
  },
  {
   "cell_type": "code",
   "execution_count": 9,
   "metadata": {
    "nbgrader": {
     "grade": true,
     "grade_id": "q03-test",
     "locked": true,
     "points": 2,
     "schema_version": 1,
     "solution": false
    }
   },
   "outputs": [],
   "source": [
    "answers['40.3'] = \"TX\""
   ]
  },
  {
   "cell_type": "markdown",
   "metadata": {
    "nbgrader": {
     "grade": false,
     "grade_id": "q04-intro",
     "locked": true,
     "schema_version": 1,
     "solution": false
    }
   },
   "source": [
    "## #04 - \n",
    "\n",
    "Which of those State values has the best average performance on the `Star Rating for health team communicated well with them` score?"
   ]
  },
  {
   "cell_type": "code",
   "execution_count": 10,
   "metadata": {
    "nbgrader": {
     "grade": false,
     "grade_id": "q04-solution",
     "locked": false,
     "schema_version": 1,
     "solution": true
    }
   },
   "outputs": [
    {
     "name": "stdout",
     "output_type": "stream",
     "text": [
      "5.0    2035\n",
      "4.0    1810\n",
      "3.0    1010\n",
      "2.0     695\n",
      "1.0     203\n",
      "Name: Star Rating for health team communicated well with them, dtype: int64\n",
      "\n",
      "Star Rating for health team communicated well with them    4.65\n",
      "dtype: float64\n",
      "Star Rating for health team communicated well with them    ME\n",
      "dtype: object\n",
      "\n",
      "The State with the best average Star Rating performance... is ME at 4.65\n"
     ]
    }
   ],
   "source": [
    "# Write some code to figure it out\n",
    "\n",
    "#quick checks\n",
    "hhcaps['Star Rating for health team communicated well with them']\n",
    "star_rating_col = hhcaps['Star Rating for health team communicated well with them']\n",
    "\n",
    "#method 1 (piecewise - means, then max, then index etc.)\n",
    "#check unique values for the star-rating series/column\n",
    "star_rating_values = hhcaps['Star Rating for health team communicated well with them'].value_counts()\n",
    "print(star_rating_values)\n",
    "print()\n",
    "\n",
    "#get the means\n",
    "grouped_means = hhcaps.groupby(['State'])[['Star Rating for health team communicated well with them']].mean()\n",
    "#print(grouped_means)\n",
    "\n",
    "#get the max (using index position)\n",
    "max_means = grouped_means.max()\n",
    "maxMeanIndex = grouped_means.idxmax()\n",
    "\n",
    "print(max_means)\n",
    "print(maxMeanIndex)\n",
    "print()\n",
    "\n",
    "#method 2 (using groupby & sort separately)\n",
    "ratings_mean = hhcaps.groupby('State')['Star Rating for health team communicated well with them'].mean()\n",
    "#print(ratings_mean.sort_values(ascending=False).index[0])\n",
    "\n",
    "#method 3 (using groupby & sort together on the fly)\n",
    "state_ID = hhcaps.groupby('State')['Star Rating for health team communicated well with them'].mean().sort_values(ascending=False).index[0]\n",
    "print(\"The State with the best average Star Rating performance... is\", state_ID, \"at 4.65\" )"
   ]
  },
  {
   "cell_type": "code",
   "execution_count": 11,
   "metadata": {
    "nbgrader": {
     "grade": true,
     "grade_id": "q04-test",
     "locked": true,
     "points": 2,
     "schema_version": 1,
     "solution": false
    }
   },
   "outputs": [],
   "source": [
    "answers['40.4'] = \"ME\""
   ]
  },
  {
   "cell_type": "markdown",
   "metadata": {
    "nbgrader": {
     "grade": false,
     "grade_id": "q05-intro",
     "locked": true,
     "schema_version": 1,
     "solution": false
    }
   },
   "source": [
    "## #05 - \n",
    "\n",
    "What was the average score on `Star Rating for how patients rated overall care from agency` for providers listed as having a `Type of Ownership` of `Hospital Based Program`\n",
    "\n",
    "**NOTE: Enter your answer with two decimal precision: 0.00**"
   ]
  },
  {
   "cell_type": "code",
   "execution_count": 12,
   "metadata": {
    "nbgrader": {
     "grade": false,
     "grade_id": "q05-solution",
     "locked": false,
     "schema_version": 1,
     "solution": true
    }
   },
   "outputs": [
    {
     "name": "stdout",
     "output_type": "stream",
     "text": [
      "3.0    1881\n",
      "4.0    1806\n",
      "2.0    1226\n",
      "5.0     618\n",
      "1.0     222\n",
      "Name: Star Rating for how patients rated overall care from agency, dtype: int64\n",
      "No.of.unique values: 5\n"
     ]
    }
   ],
   "source": [
    "#quick checks\n",
    "hhcaps['Star Rating for how patients rated overall care from agency']\n",
    "\n",
    "hhcaps.columns\n",
    "\n",
    "grouped_counts_PROV = hhcaps['Type of Ownership'].value_counts()\n",
    "#print(grouped_counts_PROV)\n",
    "\n",
    "# #get the unique counts for the values of the star-rating series/column\n",
    "star_rating_values = hhcaps['Star Rating for how patients rated overall care from agency'].value_counts()\n",
    "print(star_rating_values)\n",
    "\n",
    "grouped_means_check = hhcaps.groupby(['Type of Ownership'])[['Star Rating for how patients rated overall care from agency']].mean()\n",
    "print('No.of.unique values:', len(star_rating_values))\n",
    "#print(grouped_means_check)"
   ]
  },
  {
   "cell_type": "code",
   "execution_count": 13,
   "metadata": {},
   "outputs": [
    {
     "name": "stdout",
     "output_type": "stream",
     "text": [
      "                                        Star Rating for health team communicated well with them\n",
      "Type of Ownership                                                                              \n",
      "Combination Government Voluntary                                                 4.250000      \n",
      "Hospital Based Program                                                           4.512465      \n",
      "Local                                                                            3.708481      \n",
      "Official Health Agency                                                           3.736334      \n",
      "Rehabilitation Facility Based Program                                            5.000000      \n",
      "Skilled Nursing Facility Based Program                                           3.240000      \n",
      "Visiting Nurse Association                                                       3.960739      \n",
      "\n",
      "The average score on Star Rating... for providers listed as having a Type of Ownership of Hospital Based Program is 3.69\n"
     ]
    }
   ],
   "source": [
    "# Write some code to figure it out\n",
    "\n",
    "grouped_means_PROV = hhcaps.groupby(['Type of Ownership'])[['Star Rating for health team communicated well with them']].mean()\n",
    "#grouped_means_PROV = hhcaps.groupby('State')['Star Rating for health team communicated well with them'].mean()\n",
    "print(grouped_means_PROV)\n",
    "print()\n",
    "\n",
    "#first, subset data to include just 'Type of Ownership' == 'Hospital Based Program'\n",
    "#method 1: Subsetting with condition before taking the mean\n",
    "hhcaps_subset = hhcaps[hhcaps['Type of Ownership'] == 'Hospital Based Program']\n",
    "\n",
    "#method 2: where statement before grouping the means\n",
    "hhcaps_subset = hhcaps.iloc[np.where(hhcaps['Type of Ownership'].isin(['Hospital Based Program']))]\n",
    "\n",
    "#next, get mean for the subset\n",
    "hhcaps_subset['Star Rating for how patients rated overall care from agency'].mean()\n",
    "category_mean = round((hhcaps_subset['Star Rating for how patients rated overall care from agency'].mean()), 2)\n",
    "print('The average score on Star Rating... for providers listed as having a Type of Ownership of Hospital Based Program is', category_mean)\n"
   ]
  },
  {
   "cell_type": "code",
   "execution_count": 14,
   "metadata": {
    "nbgrader": {
     "grade": true,
     "grade_id": "q05-test",
     "locked": true,
     "points": 2,
     "schema_version": 1,
     "solution": false
    }
   },
   "outputs": [],
   "source": [
    "answers['40.5'] = \"3.69\""
   ]
  },
  {
   "cell_type": "markdown",
   "metadata": {},
   "source": [
    "---\n",
    "\n",
    "Checking Your Work\n",
    "---\n",
    "\n",
    "After completing your work above and running each cell, you can check your answers by running the code below. \n",
    "\n",
    "The easiest way to do this is to use the `Kernel` -> `Restart Kernel and Run All Cells` menu option. This option restarts Python and runs every cell from top to bottom until it encounters an exception of some kind.  It will stop after running the cell below and outputing a summary of how many answers you have correct or incorrect.\n"
   ]
  },
  {
   "cell_type": "code",
   "execution_count": 15,
   "metadata": {
    "jupyter": {
     "source_hidden": true
    }
   },
   "outputs": [
    {
     "name": "stdout",
     "output_type": "stream",
     "text": [
      "   Q#               Yours  Correct?\n",
      "{'errorMessage': \"'NoneType' object is not iterable\", 'errorType': 'TypeError', 'requestId': '70c576e0-b59e-46aa-bee9-a43261a871d7', 'stackTrace': ['  File \"/var/task/lambda_function.py\", line 22, in lambda_handler\\n    tst = { a.upper() for a in set(sub) }\\n']}\n"
     ]
    }
   ],
   "source": [
    "import getpass\n",
    "import boto3\n",
    "import json\n",
    "\n",
    "test = {\n",
    "    \"user\": getpass.getuser(),\n",
    "    \"week\": \"week13\",\n",
    "    \"answers\": answers\n",
    "}\n",
    "\n",
    "client = boto3.client('lambda')\n",
    "\n",
    "response = client.invoke(\n",
    "    FunctionName=\"hds5210\",\n",
    "    InvocationType=\"RequestResponse\",\n",
    "    Payload=json.dumps(test))\n",
    "\n",
    "result = json.loads(response['Payload'].read().decode('utf-8'))\n",
    "# print(result)\n",
    "\n",
    "try:\n",
    "    print('{0:>5}{1:>20}{2:>10}'.format('Q#','Yours','Correct?'))\n",
    "    for row in result.get('results'):\n",
    "        print('{0:>5}{1:>20}{2:>10}'.format(str(row[0]),str(row[1]),str(row[2])))\n",
    "except:\n",
    "    print(result)"
   ]
  },
  {
   "cell_type": "markdown",
   "metadata": {},
   "source": [
    "---\n",
    "\n",
    "## Check your work above\n",
    "\n",
    "If you didn't get them all correct, take a few minutes to think through those that aren't correct.\n",
    "\n",
    "\n",
    "## Submitting Your Work\n",
    "\n",
    "In order to submit your work, you'll need to use the `git` command line program to **add** your homework file (this file) to your local repository, **commit** your changes to your local repository, and then **push** those changes up to github.com.  From there, I'll be able to **pull** the changes down and do my grading.  I'll provide some feedback, **commit** and **push** my comments back to you.  Next week, I'll show you how to **pull** down my comments.\n",
    "\n",
    "To run through everything one last time and submit your work:\n",
    "1. Use the `Kernel` -> `Restart Kernel and Run All Cells` menu option to run everything from top to bottom and stop here.\n",
    "2. Follow the instruction on the prompt below to either ssave and submit your work, or continue working.\n",
    "\n",
    "If anything fails along the way with this submission part of the process, let me know.  I'll help you troubleshoort."
   ]
  },
  {
   "cell_type": "markdown",
   "metadata": {},
   "source": [
    "---"
   ]
  },
  {
   "cell_type": "code",
   "execution_count": null,
   "metadata": {
    "jupyter": {
     "source_hidden": true
    }
   },
   "outputs": [],
   "source": [
    "a=input('''\n",
    "Are you ready to submit your work?\n",
    "1. Click the Save icon (or do Ctrl-S / Cmd-S)\n",
    "2. Type \"yes\" or \"no\" below\n",
    "3. Press Enter\n",
    "\n",
    "''')\n",
    "\n",
    "if a=='yes':\n",
    "    !git add week13_assignment_1.ipynb\n",
    "    !git commit -a -m \"Submitting the week 13 review exercises\"\n",
    "    !git push\n",
    "else:\n",
    "    print('''\n",
    "    \n",
    "OK. We can wait.\n",
    "''')"
   ]
  },
  {
   "cell_type": "code",
   "execution_count": null,
   "metadata": {},
   "outputs": [],
   "source": []
  }
 ],
 "metadata": {
  "celltoolbar": "Create Assignment",
  "kernelspec": {
   "display_name": "Python 3",
   "language": "python",
   "name": "python3"
  },
  "language_info": {
   "codemirror_mode": {
    "name": "ipython",
    "version": 3
   },
   "file_extension": ".py",
   "mimetype": "text/x-python",
   "name": "python",
   "nbconvert_exporter": "python",
   "pygments_lexer": "ipython3",
   "version": "3.6.7"
  }
 },
 "nbformat": 4,
 "nbformat_minor": 2
}
